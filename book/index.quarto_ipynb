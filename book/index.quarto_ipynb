{
  "cells": [
    {
      "cell_type": "markdown",
      "metadata": {},
      "source": [
        "# Welcome {.unnumbered}\n",
        "\n",
        "Welcome to ***Machine Learning Design for Business***! This is the the online textbook that compliments the UC BANA 7075 course. This course aims to provide a framework for developing real-world machine learning systems that are deployable, reliable, and scalable.  You will be introduced to ***MLOps*** as the intersection of DataOps, ModelOps, and DevOps; combined, these concepts provide scalable, reliable, and repeatable machine learning workflows. You will learn how MLOps enables organizations to overcome challenges in operationalizing machine learning models. Along the way, you will learn about important organizational issues including privacy, fairness, security, stakeholder management, project collaboration, and more!\n",
        "\n",
        "Throughout this textbook you'll find embedded lectures, hands-on exercises, and additional resources that will allow you to explore the tools, techniques, and best practices required to successfully design and deploy machine learning systems in today's organizations.\n",
        "\n",
        "## Who should read this {-}\n",
        "\n",
        "This book is ideal for graduate students, data scientists, engineers, and analytics professionals who want to bridge the gap between building machine learning models and deploying them into reliable, scalable production environments. Those looking to deepen their understanding of operationalizing ML models will benefit from hands-on experience with MLOps workflows, including data management, model deployment, and monitoring. Individuals with a basic background in machine learning or software development will gain practical skills to streamline the machine learning lifecycle and align their work with organizational and business goals.\n",
        "\n",
        "This book is also valuable for those interested in cross-functional collaboration, providing insights into how data science teams can work alongside engineering and business units to achieve successful machine learning outcomes.\n",
        "\n",
        "\n",
        "This book is technical in nature, designed to provide hands-on experience in deploying, monitoring, and managing machine learning systems. While it's possible to successfully complete the book with minimal coding experience, having some familiarity with Python and basic machine learning concepts will be beneficial for understanding and applying the material. The course introduces technical tools and workflows, but it’s structured to guide students of various backgrounds through each step. Those with prior experience in Python or ML will have a smoother time grasping the concepts and may find it easier to implement projects independently. However, foundational knowledge in programming or machine learning is not strictly required, as core principles and step-by-step instructions are provided to support all readers in building effective MLOps pipelines.\n",
        "\n",
        "::: {.callout-note}\n",
        "If you are new to Python, I recommend you check out [https://bradleyboehmke.github.io/uc-bana-6043](https://bradleyboehmke.github.io/uc-bana-6043) to get up to speed with the basics.\n",
        ":::\n",
        "\n",
        "## Conventions used in this book {-}\n",
        "\n",
        "The following typographical conventions are used in this book:\n",
        "\n",
        "* ___strong italic___: indicates new terms,\n",
        "* __bold__: indicates package & file names,\n",
        "* `inline code`: monospaced highlighted text indicates functions or other commands that could be typed literally by the user,\n",
        "* code chunk: indicates commands or other text that could be typed literally by the user\n"
      ],
      "id": "d6ad926b"
    },
    {
      "cell_type": "code",
      "metadata": {},
      "source": [
        "1 + 2"
      ],
      "id": "a105d239",
      "execution_count": null,
      "outputs": []
    },
    {
      "cell_type": "markdown",
      "metadata": {},
      "source": [
        "In addition to the general text used throughout, you will notice the following code chunks with images:\n",
        "\n",
        "::: {.callout-tip}\n",
        "Signifies a tip or suggestion\n",
        ":::\n",
        "\n",
        "::: {.callout-note}\n",
        "Signifies a general note\n",
        ":::\n",
        "\n",
        "::: {.callout-warning}\n",
        "Signifies a warning or caution\n",
        ":::\n",
        "\n",
        "## Software used throughout this book {-}\n",
        "\n",
        "TBD\n",
        "\n",
        "## Additional resources {-}\n",
        "\n",
        "TBD"
      ],
      "id": "dd62e99f"
    }
  ],
  "metadata": {
    "kernelspec": {
      "name": "python3",
      "language": "python",
      "display_name": "Python 3 (ipykernel)",
      "path": "/Users/b294776/Library/Python/3.9/share/jupyter/kernels/python3"
    }
  },
  "nbformat": 4,
  "nbformat_minor": 5
}