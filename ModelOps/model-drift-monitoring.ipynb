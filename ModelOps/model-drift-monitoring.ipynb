{
 "cells": [
  {
   "cell_type": "markdown",
   "metadata": {},
   "source": [
    "# Example Drift Detection with Evidently\n",
    "\n",
    "This notebook provides an example of using Evidently to assess drift as discussed in [https://bradleyboehmke.github.io/uc-bana-7075/09-modelops-monitoring.html#examples-of-implementing-evidently](https://bradleyboehmke.github.io/uc-bana-7075/09-modelops-monitoring.html#examples-of-implementing-evidently)."
   ]
  },
  {
   "cell_type": "code",
   "execution_count": 1,
   "metadata": {
    "tags": [
     "create-baseline-vs-drift-data"
    ]
   },
   "outputs": [],
   "source": [
    "from apple_data import generate_apple_sales_data_with_promo_adjustment\n",
    "\n",
    "# Generate baseline dataset (no drift)\n",
    "baseline_df = generate_apple_sales_data_with_promo_adjustment(\n",
    "    n_rows=5000\n",
    ")\n",
    "\n",
    "# Generate drifted dataset with controlled drift factors\n",
    "feature_drift_config = {\n",
    "    \"average_temperature\": 1.2,  # 20% increase\n",
    "    \"rainfall\": 0.9,             # 10% decrease\n",
    "    \"price_per_kg\": 1.09,        # 9% increase\n",
    "    \"promo\": 1.5                 # 50% more promotions\n",
    "}\n",
    "\n",
    "concept_drift_config = {\n",
    "    \"price_sensitivity\": 0.8,  # 20% less sensitive to price changes\n",
    "    \"promo_effect\": 0.7,       # Promotions become 30% less effective\n",
    "    \"weekend_effect\": 1.1,     # Weekend demand slightly increases\n",
    "    \"feature_importance\": True\n",
    "}\n",
    "\n",
    "drifted_df = generate_apple_sales_data_with_promo_adjustment(\n",
    "    n_rows=5000,\n",
    "    feature_drift_factors=feature_drift_config,\n",
    "    concept_drift_factors=concept_drift_config\n",
    ")"
   ]
  },
  {
   "cell_type": "code",
   "execution_count": 2,
   "metadata": {},
   "outputs": [],
   "source": [
    "# save drifted data to demo later\n",
    "drifted_df.to_csv(\"drifted_batch_data.csv\", index=False)"
   ]
  },
  {
   "cell_type": "markdown",
   "metadata": {},
   "source": [
    "## Feature Drift"
   ]
  },
  {
   "cell_type": "code",
   "execution_count": 3,
   "metadata": {
    "tags": [
     "generate-drift-report"
    ]
   },
   "outputs": [],
   "source": [
    "from evidently.report import Report\n",
    "from evidently.metric_preset import DataDriftPreset\n",
    "\n",
    "# Define the drift detection report\n",
    "data_drift_report = Report(metrics=[DataDriftPreset(drift_share=0.3)])\n",
    "\n",
    "# Run comparison\n",
    "data_drift_report.run(reference_data=baseline_df, current_data=drifted_df)\n",
    "\n",
    "# Save the report\n",
    "data_drift_report.save_html(\"data_drift_report.html\")"
   ]
  },
  {
   "cell_type": "markdown",
   "metadata": {},
   "source": [
    "## Target/Concept Drift"
   ]
  },
  {
   "cell_type": "code",
   "execution_count": 4,
   "metadata": {
    "tags": [
     "target-drift-report"
    ]
   },
   "outputs": [],
   "source": [
    "from evidently.metric_preset import TargetDriftPreset\n",
    "from evidently import ColumnMapping\n",
    "\n",
    "\n",
    "# Define the target variable and date variable\n",
    "column_mapping = ColumnMapping()\n",
    "column_mapping.target = 'demand'\n",
    "column_mapping.datetime = 'date'\n",
    "\n",
    "# Create an Evidently AI report for concept drift detection\n",
    "concept_drift_report = Report(metrics=[TargetDriftPreset()])\n",
    "\n",
    "# Run the report specifying the target variable\n",
    "concept_drift_report.run(\n",
    "    reference_data=baseline_df,\n",
    "    current_data=drifted_df,\n",
    "    column_mapping=column_mapping  # Explicitly map the target variable\n",
    ")\n",
    "\n",
    "# Save and view the report\n",
    "concept_drift_report.save_html(\"concept_drift_report.html\")\n"
   ]
  },
  {
   "cell_type": "markdown",
   "metadata": {},
   "source": [
    "## Model Performance Drift"
   ]
  },
  {
   "cell_type": "code",
   "execution_count": 5,
   "metadata": {
    "tags": [
     "model-performance-drift-report"
    ]
   },
   "outputs": [
    {
     "name": "stderr",
     "output_type": "stream",
     "text": [
      "/opt/anaconda3/lib/python3.12/site-packages/sklearn/metrics/_regression.py:1211: UndefinedMetricWarning:\n",
      "\n",
      "R^2 score is not well-defined with less than two samples.\n",
      "\n"
     ]
    }
   ],
   "source": [
    "from evidently.metric_preset import RegressionPreset\n",
    "import mlflow\n",
    "\n",
    "\n",
    "# Load current model\n",
    "mlflow.set_experiment(\"Forecasting Apple Demand\")\n",
    "MODEL_URI = \"models:/apple_demand@champion\"\n",
    "model = mlflow.pyfunc.load_model(MODEL_URI)\n",
    "\n",
    "# Score baseline & drift data with model\n",
    "baseline_df['predictions'] = model.predict(drifted_df)\n",
    "drifted_df['predictions'] = model.predict(drifted_df)\n",
    "\n",
    "# Add the prediction variable to our column mapping to compare to actuals\n",
    "column_mapping.prediction = 'predictions'\n",
    "\n",
    "# Create a model performance monitoring report\n",
    "performance_report = Report(metrics=[RegressionPreset()])\n",
    "performance_report.run(\n",
    "    reference_data=baseline_df,\n",
    "    current_data=drifted_df,\n",
    "    column_mapping=column_mapping  # Explicitly map the target variable\n",
    ")\n",
    "\n",
    "# Save report\n",
    "performance_report.save_html(\"performance_report.html\")\n"
   ]
  }
 ],
 "metadata": {
  "kernelspec": {
   "display_name": "base",
   "language": "python",
   "name": "python3"
  },
  "language_info": {
   "codemirror_mode": {
    "name": "ipython",
    "version": 3
   },
   "file_extension": ".py",
   "mimetype": "text/x-python",
   "name": "python",
   "nbconvert_exporter": "python",
   "pygments_lexer": "ipython3",
   "version": "3.12.7"
  }
 },
 "nbformat": 4,
 "nbformat_minor": 2
}
