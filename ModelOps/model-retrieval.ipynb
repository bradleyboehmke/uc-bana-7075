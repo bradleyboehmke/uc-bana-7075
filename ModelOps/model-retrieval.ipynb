{
 "cells": [
  {
   "cell_type": "markdown",
   "metadata": {},
   "source": [
    "# Example Model Retrieval for Prediction\n",
    "\n",
    "This notebook provides a simple example of retrieving an MLFlow model to make predictions as discussed in [TBD](TBD)."
   ]
  },
  {
   "cell_type": "code",
   "execution_count": 1,
   "metadata": {
    "tags": [
     "model-retrieval"
    ]
   },
   "outputs": [
    {
     "name": "stderr",
     "output_type": "stream",
     "text": [
      "/opt/anaconda3/lib/python3.12/site-packages/mlflow/store/artifact/utils/models.py:32: FutureWarning: ``mlflow.tracking.client.MlflowClient.get_latest_versions`` is deprecated since 2.9.0. Model registry stages will be removed in a future major release. To learn more about the deprecation of model registry stages, see our migration guide here: https://mlflow.org/docs/2.12.2/model-registry.html#migrating-from-stages\n",
      "  latest = client.get_latest_versions(name, None if stage is None else [stage])\n"
     ]
    },
    {
     "data": {
      "text/plain": [
       "array([960.5483463])"
      ]
     },
     "execution_count": 1,
     "metadata": {},
     "output_type": "execute_result"
    }
   ],
   "source": [
    "# Requirements\n",
    "import mlflow\n",
    "from apple_data import generate_apple_sales_data_with_promo_adjustment\n",
    "\n",
    "\n",
    "# Set experiment name\n",
    "mlflow.set_experiment(\"Forecasting Apple Demand\")\n",
    "\n",
    "# Define the model name and version\n",
    "MODEL_NAME = \"apple_demand\"\n",
    "MODEL_VERSION = \"latest\"  # Can specify 1, 2, etc. or \"latest\"\n",
    "\n",
    "# Load the model from MLflow Model Registry\n",
    "model_uri = f\"models:/{MODEL_NAME}/{MODEL_VERSION}\"\n",
    "model = mlflow.pyfunc.load_model(model_uri)\n",
    "\n",
    "# Create test data for model input\n",
    "test_data = generate_apple_sales_data_with_promo_adjustment(base_demand=1_000, n_rows=1_001)\n",
    "test_data = test_data.drop(columns=['demand']).iloc[[-1]]\n",
    "\n",
    "# Generate predictions\n",
    "model.predict(test_data)"
   ]
  }
 ],
 "metadata": {
  "kernelspec": {
   "display_name": "base",
   "language": "python",
   "name": "python3"
  },
  "language_info": {
   "codemirror_mode": {
    "name": "ipython",
    "version": 3
   },
   "file_extension": ".py",
   "mimetype": "text/x-python",
   "name": "python",
   "nbconvert_exporter": "python",
   "pygments_lexer": "ipython3",
   "version": "3.12.7"
  }
 },
 "nbformat": 4,
 "nbformat_minor": 2
}
