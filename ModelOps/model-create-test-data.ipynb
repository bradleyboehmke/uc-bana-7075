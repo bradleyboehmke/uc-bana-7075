{
 "cells": [
  {
   "cell_type": "code",
   "execution_count": 3,
   "metadata": {},
   "outputs": [],
   "source": [
    "from apple_data import generate_apple_sales_data_with_promo_adjustment\n",
    "\n",
    "\n",
    "# Create test data for model input\n",
    "test_data = generate_apple_sales_data_with_promo_adjustment(base_demand=1_000, n_rows=1_001)\n",
    "test_data = test_data.drop(columns=['demand', 'date']).iloc[[-1]]\n",
    "\n",
    "test_data.to_csv(\"test_data.csv\", index=False)"
   ]
  },
  {
   "cell_type": "code",
   "execution_count": 5,
   "metadata": {},
   "outputs": [],
   "source": [
    "# Create test batch data for model input\n",
    "test_batch_data = generate_apple_sales_data_with_promo_adjustment(base_demand=1_000, n_rows=10)\n",
    "test_batch_data = test_batch_data.drop(columns=['demand', 'date'])\n",
    "\n",
    "test_batch_data.to_csv(\"test_batch_data.csv\", index=False)"
   ]
  }
 ],
 "metadata": {
  "kernelspec": {
   "display_name": "base",
   "language": "python",
   "name": "python3"
  },
  "language_info": {
   "codemirror_mode": {
    "name": "ipython",
    "version": 3
   },
   "file_extension": ".py",
   "mimetype": "text/x-python",
   "name": "python",
   "nbconvert_exporter": "python",
   "pygments_lexer": "ipython3",
   "version": "3.12.7"
  }
 },
 "nbformat": 4,
 "nbformat_minor": 2
}
