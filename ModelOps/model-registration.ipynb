{
 "cells": [
  {
   "cell_type": "markdown",
   "metadata": {},
   "source": [
    "# Example Model Registration\n",
    "\n",
    "This notebook provides an example of using MLFlow to register a model as discussed in [https://bradleyboehmke.github.io/uc-bana-7075/07-modelops-versioning.html](https://bradleyboehmke.github.io/uc-bana-7075/07-modelops-versioning.html)."
   ]
  },
  {
   "cell_type": "markdown",
   "metadata": {},
   "source": [
    "## Requirements"
   ]
  },
  {
   "cell_type": "code",
   "execution_count": 1,
   "metadata": {},
   "outputs": [],
   "source": [
    "import mlflow\n",
    "import mlflow.xgboost\n",
    "import pandas as pd\n",
    "import numpy as np\n",
    "from xgboost import XGBRegressor\n",
    "from sklearn.model_selection import train_test_split\n",
    "from sklearn.metrics import mean_squared_error\n",
    "\n",
    "from apple_data import generate_apple_sales_data_with_promo_adjustment"
   ]
  },
  {
   "cell_type": "code",
   "execution_count": 2,
   "metadata": {},
   "outputs": [],
   "source": [
    "# silence some unnecessary messages caused by great expectations\n",
    "import warnings\n",
    "warnings.filterwarnings('ignore')"
   ]
  },
  {
   "cell_type": "markdown",
   "metadata": {},
   "source": [
    "## Set experiment"
   ]
  },
  {
   "cell_type": "code",
   "execution_count": 3,
   "metadata": {
    "tags": [
     "set-experiment"
    ]
   },
   "outputs": [
    {
     "data": {
      "text/plain": [
       "<Experiment: artifact_location='file:///Users/b294776/Desktop/workspace/training/UC/uc-bana-7075/ModelOps/mlruns/151640156787012125', creation_time=1738854716745, experiment_id='151640156787012125', last_update_time=1738854716745, lifecycle_stage='active', name='Forecasting Apple Demand', tags={}>"
      ]
     },
     "execution_count": 3,
     "metadata": {},
     "output_type": "execute_result"
    }
   ],
   "source": [
    "# Set experiment name\n",
    "mlflow.set_experiment(\"Forecasting Apple Demand\")"
   ]
  },
  {
   "cell_type": "markdown",
   "metadata": {},
   "source": [
    "## Register model from existing model run"
   ]
  },
  {
   "cell_type": "code",
   "execution_count": 4,
   "metadata": {
    "tags": [
     "existing-runs"
    ]
   },
   "outputs": [
    {
     "name": "stdout",
     "output_type": "stream",
     "text": [
      "                             run_id       experiment_id    status  \\\n",
      "0  0344c3955f7e46ed9799b2fcbd86ca77  151640156787012125  FINISHED   \n",
      "1  d6f75b5268304d7489edebb9761a3a5a  151640156787012125  FINISHED   \n",
      "2  c99bf33dc4ec4cc39a33313435b7ddcb  151640156787012125  FINISHED   \n",
      "3  adc50abaaccf4d968c886e4227c6315f  151640156787012125  FINISHED   \n",
      "\n",
      "                                        artifact_uri  \\\n",
      "0  file:///Users/b294776/Desktop/workspace/traini...   \n",
      "1  file:///Users/b294776/Desktop/workspace/traini...   \n",
      "2  file:///Users/b294776/Desktop/workspace/traini...   \n",
      "3  file:///Users/b294776/Desktop/workspace/traini...   \n",
      "\n",
      "                        start_time                         end_time  \\\n",
      "0 2025-02-06 15:13:39.086000+00:00 2025-02-06 15:13:45.082000+00:00   \n",
      "1 2025-02-06 15:13:32.490000+00:00 2025-02-06 15:13:38.986000+00:00   \n",
      "2 2025-02-06 15:12:09.416000+00:00 2025-02-06 15:12:15.275000+00:00   \n",
      "3 2025-02-06 15:11:57.588000+00:00 2025-02-06 15:12:09.041000+00:00   \n",
      "\n",
      "   metrics.r2  metrics.mse  metrics.rmse  metrics.mae  ...  \\\n",
      "0    0.847767  3611.388787     60.094832    46.920906  ...   \n",
      "1    0.829605  4042.240228     63.578615    48.771858  ...   \n",
      "2    0.829536  4043.882853     63.591531    48.965572  ...   \n",
      "3    0.847831  3609.860614     60.082116    46.910768  ...   \n",
      "\n",
      "  params.min_samples_split params.n_estimators params.min_samples_leaf  \\\n",
      "0                     None                None                    None   \n",
      "1                       15                 200                       6   \n",
      "2                       10                 100                       4   \n",
      "3                     None                None                    None   \n",
      "\n",
      "  params.oob_score params.random_state  \\\n",
      "0             None                None   \n",
      "1             None                None   \n",
      "2            False                 888   \n",
      "3             None                None   \n",
      "\n",
      "                       tags.mlflow.log-model.history  \\\n",
      "0  [{\"run_id\": \"0344c3955f7e46ed9799b2fcbd86ca77\"...   \n",
      "1  [{\"run_id\": \"d6f75b5268304d7489edebb9761a3a5a\"...   \n",
      "2  [{\"run_id\": \"c99bf33dc4ec4cc39a33313435b7ddcb\"...   \n",
      "3  [{\"run_id\": \"adc50abaaccf4d968c886e4227c6315f\"...   \n",
      "\n",
      "                             tags.mlflow.source.name tags.mlflow.source.type  \\\n",
      "0  /opt/anaconda3/lib/python3.12/site-packages/ip...                   LOCAL   \n",
      "1  /opt/anaconda3/lib/python3.12/site-packages/ip...                   LOCAL   \n",
      "2  /opt/anaconda3/lib/python3.12/site-packages/ip...                   LOCAL   \n",
      "3  /opt/anaconda3/lib/python3.12/site-packages/ip...                   LOCAL   \n",
      "\n",
      "  tags.mlflow.user                           tags.mlflow.runName  \n",
      "0          b294776  Regularized Regression Hyperparameter Tuning  \n",
      "1          b294776           Random Forest Hyperparameter Tuning  \n",
      "2          b294776                                 Random Forest  \n",
      "3          b294776                        Regularized Regression  \n",
      "\n",
      "[4 rows x 24 columns]\n"
     ]
    }
   ],
   "source": [
    "# check out the existing model runs\n",
    "all_runs = mlflow.search_runs(search_all_experiments=True)\n",
    "print(all_runs)"
   ]
  },
  {
   "cell_type": "code",
   "execution_count": 5,
   "metadata": {
    "tags": [
     "get-rf-run-id"
    ]
   },
   "outputs": [],
   "source": [
    "# extract model run ID for tuned random forest model\n",
    "run = all_runs['tags.mlflow.runName'] == 'Random Forest Hyperparameter Tuning'\n",
    "run_id = all_runs[run]['run_id'].iloc[0]"
   ]
  },
  {
   "cell_type": "code",
   "execution_count": 6,
   "metadata": {
    "tags": [
     "register-rf-model"
    ]
   },
   "outputs": [
    {
     "name": "stderr",
     "output_type": "stream",
     "text": [
      "Registered model 'apple_demand' already exists. Creating a new version of this model...\n",
      "Created version '2' of model 'apple_demand'.\n"
     ]
    }
   ],
   "source": [
    "# register this model\n",
    "result = mlflow.register_model(f'runs:/{run_id}', 'apple_demand')"
   ]
  },
  {
   "cell_type": "markdown",
   "metadata": {},
   "source": [
    "## Register model during new model run"
   ]
  },
  {
   "cell_type": "code",
   "execution_count": 7,
   "metadata": {
    "tags": [
     "register-xgboost-model"
    ]
   },
   "outputs": [
    {
     "name": "stderr",
     "output_type": "stream",
     "text": [
      "Registered model 'apple_demand' already exists. Creating a new version of this model...\n",
      "Created version '3' of model 'apple_demand'.\n"
     ]
    }
   ],
   "source": [
    "# Create data\n",
    "data = generate_apple_sales_data_with_promo_adjustment(base_demand=1_000, n_rows=1_000)\n",
    "X = data.drop(columns=[\"date\", \"demand\"])\n",
    "y = data[\"demand\"]\n",
    "\n",
    "# Split the data into training and validation sets\n",
    "X_train, X_val, y_train, y_val = train_test_split(X, y, test_size=0.2, random_state=42)\n",
    "\n",
    "# Train an XGBoost model\n",
    "xgb_model = XGBRegressor(n_estimators=100, learning_rate=0.1, max_depth=5, random_state=42)\n",
    "xgb_model.fit(X_train, y_train)\n",
    "\n",
    "# Evaluate the model\n",
    "y_pred = xgb_model.predict(X_val)\n",
    "rmse = np.sqrt(mean_squared_error(y_val, y_pred))\n",
    "\n",
    "# Log experiment details\n",
    "with mlflow.start_run(run_name=\"XGBoost Model\"):\n",
    "    mlflow.log_param(\"model_type\", \"XGBoost\")\n",
    "    mlflow.log_param(\"n_estimators\", 100)\n",
    "    mlflow.log_param(\"learning_rate\", 0.1)\n",
    "    mlflow.log_param(\"max_depth\", 5)\n",
    "    mlflow.log_metric(\"rmse\", rmse)\n",
    "    mlflow.xgboost.log_model(xgb_model, artifact_path=\"artifacts\")\n",
    "\n",
    "    # Register model programmatically\n",
    "    active_run = mlflow.active_run().info.run_id\n",
    "    model_uri = f\"runs:/{active_run}/model\"\n",
    "    registered_model = mlflow.register_model(model_uri=model_uri, name=\"apple_demand\")\n",
    "\n",
    "    # Add metadata: Tags and Aliases\n",
    "    client = mlflow.tracking.MlflowClient()\n",
    "    client.set_registered_model_tag(\n",
    "        registered_model.name, \"validation_status\", \"pending\"\n",
    "    )\n",
    "    client.set_registered_model_alias(\n",
    "        registered_model.name, \"challenger\", version=registered_model.version\n",
    "    )"
   ]
  },
  {
   "cell_type": "markdown",
   "metadata": {},
   "source": [
    "## Query registered models"
   ]
  },
  {
   "cell_type": "code",
   "execution_count": 8,
   "metadata": {
    "tags": [
     "search-registered-models"
    ]
   },
   "outputs": [
    {
     "data": {
      "text/plain": [
       "[<RegisteredModel: aliases={'challenger': '3', 'champion': '1'}, creation_timestamp=1738855073611, description='', last_updated_timestamp=1738855344360, latest_versions=[<ModelVersion: aliases=['challenger'], creation_timestamp=1738855309446, current_stage='None', description=None, last_updated_timestamp=1738855309446, name='apple_demand', run_id='2e3ee9972ee84f498468b351c0ec2ca3', run_link=None, source='file:///Users/b294776/Desktop/workspace/training/UC/uc-bana-7075/ModelOps/mlruns/151640156787012125/2e3ee9972ee84f498468b351c0ec2ca3/artifacts/model', status='READY', status_message=None, tags={'validation_status': 'pending'}, user_id=None, version=3>], name='apple_demand', tags={'validation_status': 'pending'}>]"
      ]
     },
     "execution_count": 8,
     "metadata": {},
     "output_type": "execute_result"
    }
   ],
   "source": [
    "mlflow.search_registered_models()"
   ]
  },
  {
   "cell_type": "markdown",
   "metadata": {},
   "source": [
    "## Computing Environment"
   ]
  },
  {
   "cell_type": "code",
   "execution_count": 9,
   "metadata": {},
   "outputs": [
    {
     "name": "stdout",
     "output_type": "stream",
     "text": [
      "Python version: 3.12.7 | packaged by Anaconda, Inc. | (main, Oct  4 2024, 08:28:27) [Clang 14.0.6 ]\n",
      "\n",
      "fastapi==0.115.7\n",
      "mlflow==2.12.2\n",
      "numpy==1.26.4\n",
      "pandas==2.1.4\n",
      "python-multipart==0.0.20\n",
      "scikit-learn==1.5.1\n",
      "streamlit==1.37.1\n",
      "uvicorn==0.34.0\n",
      "xgboost==2.1.3\n"
     ]
    }
   ],
   "source": [
    "import sys\n",
    "\n",
    "print(f'Python version: {sys.version}', end='\\n\\n')\n",
    "\n",
    "with open('modelops-requirements.txt', 'r') as file:\n",
    "    for line in file:\n",
    "        print(line.strip())"
   ]
  }
 ],
 "metadata": {
  "kernelspec": {
   "display_name": "base",
   "language": "python",
   "name": "python3"
  },
  "language_info": {
   "codemirror_mode": {
    "name": "ipython",
    "version": 3
   },
   "file_extension": ".py",
   "mimetype": "text/x-python",
   "name": "python",
   "nbconvert_exporter": "python",
   "pygments_lexer": "ipython3",
   "version": "3.12.7"
  }
 },
 "nbformat": 4,
 "nbformat_minor": 2
}
