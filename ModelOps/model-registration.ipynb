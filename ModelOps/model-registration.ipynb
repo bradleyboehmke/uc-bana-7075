{
 "cells": [
  {
   "cell_type": "markdown",
   "metadata": {},
   "source": [
    "# Example Model Registration\n",
    "\n",
    "This notebook provides an example of using MLFlow to register a model as discussed in [https://bradleyboehmke.github.io/uc-bana-7075/07-modelops-versioning.html](https://bradleyboehmke.github.io/uc-bana-7075/07-modelops-versioning.html)."
   ]
  },
  {
   "cell_type": "markdown",
   "metadata": {},
   "source": [
    "## Requirements"
   ]
  },
  {
   "cell_type": "code",
   "execution_count": 1,
   "metadata": {},
   "outputs": [],
   "source": [
    "import mlflow\n",
    "import mlflow.xgboost\n",
    "import pandas as pd\n",
    "import numpy as np\n",
    "from xgboost import XGBRegressor\n",
    "from sklearn.model_selection import train_test_split\n",
    "from sklearn.metrics import mean_squared_error\n",
    "\n",
    "from apple_data import generate_apple_sales_data_with_promo_adjustment"
   ]
  },
  {
   "cell_type": "code",
   "execution_count": 2,
   "metadata": {},
   "outputs": [],
   "source": [
    "# silence some unnecessary messages caused by great expectations\n",
    "import warnings\n",
    "warnings.filterwarnings('ignore')"
   ]
  },
  {
   "cell_type": "markdown",
   "metadata": {},
   "source": [
    "## Set experiment"
   ]
  },
  {
   "cell_type": "code",
   "execution_count": 3,
   "metadata": {
    "tags": [
     "set-experiment"
    ]
   },
   "outputs": [
    {
     "data": {
      "text/plain": [
       "<Experiment: artifact_location='file:///Users/b294776/Desktop/workspace/training/UC/uc-bana-7075/ModelOps/mlruns/186119791991456899', creation_time=1737915596015, experiment_id='186119791991456899', last_update_time=1737915596015, lifecycle_stage='active', name='Forecasting Apple Demand', tags={}>"
      ]
     },
     "execution_count": 3,
     "metadata": {},
     "output_type": "execute_result"
    }
   ],
   "source": [
    "# Set experiment name\n",
    "mlflow.set_experiment(\"Forecasting Apple Demand\")"
   ]
  },
  {
   "cell_type": "markdown",
   "metadata": {},
   "source": [
    "## Register model from existing model run"
   ]
  },
  {
   "cell_type": "code",
   "execution_count": 4,
   "metadata": {
    "tags": [
     "existing-runs"
    ]
   },
   "outputs": [
    {
     "name": "stdout",
     "output_type": "stream",
     "text": [
      "                             run_id       experiment_id    status  \\\n",
      "0  1d4f349e3edc481685c691ef773dfb7e  186119791991456899  FINISHED   \n",
      "1  9729fd97ce074ee2862cc32e1089c513  186119791991456899  FINISHED   \n",
      "2  3a460bec71464493bdc4da5ec9537796  186119791991456899  FINISHED   \n",
      "3  dfe70656a2f64c11b35078e288f962ab  186119791991456899  FINISHED   \n",
      "\n",
      "                                        artifact_uri  \\\n",
      "0  file:///Users/b294776/Desktop/workspace/traini...   \n",
      "1  file:///Users/b294776/Desktop/workspace/traini...   \n",
      "2  file:///Users/b294776/Desktop/workspace/traini...   \n",
      "3  file:///Users/b294776/Desktop/workspace/traini...   \n",
      "\n",
      "                        start_time                         end_time  \\\n",
      "0 2025-01-26 18:21:05.944000+00:00 2025-01-26 18:21:11.317000+00:00   \n",
      "1 2025-01-26 18:21:00.330000+00:00 2025-01-26 18:21:05.873000+00:00   \n",
      "2 2025-01-26 18:20:01.595000+00:00 2025-01-26 18:20:04.736000+00:00   \n",
      "3 2025-01-26 18:19:56.389000+00:00 2025-01-26 18:20:01.247000+00:00   \n",
      "\n",
      "   metrics.rmse  metrics.r2  metrics.mae  metrics.mse  ... params.bootstrap  \\\n",
      "0     61.285576    0.900071    47.628141  3755.921850  ...             None   \n",
      "1     64.496897    0.889324    50.436906  4159.849675  ...             True   \n",
      "2     64.662326    0.888755    50.439003  4181.216379  ...             True   \n",
      "3     61.262270    0.900147    47.611615  3753.065770  ...             None   \n",
      "\n",
      "  params.min_samples_split params.n_estimators params.oob_score  \\\n",
      "0                     None                None             None   \n",
      "1                       15                 200             None   \n",
      "2                       10                 100            False   \n",
      "3                     None                None             None   \n",
      "\n",
      "  params.random_state tags.mlflow.source.type tags.mlflow.user  \\\n",
      "0                None                   LOCAL          b294776   \n",
      "1                None                   LOCAL          b294776   \n",
      "2                 888                   LOCAL          b294776   \n",
      "3                None                   LOCAL          b294776   \n",
      "\n",
      "                            tags.mlflow.runName  \\\n",
      "0  Regularized Regression Hyperparameter Tuning   \n",
      "1           Random Forest Hyperparameter Tuning   \n",
      "2                                 Random Forest   \n",
      "3                        Regularized Regression   \n",
      "\n",
      "                       tags.mlflow.log-model.history  \\\n",
      "0  [{\"run_id\": \"1d4f349e3edc481685c691ef773dfb7e\"...   \n",
      "1  [{\"run_id\": \"9729fd97ce074ee2862cc32e1089c513\"...   \n",
      "2  [{\"run_id\": \"3a460bec71464493bdc4da5ec9537796\"...   \n",
      "3  [{\"run_id\": \"dfe70656a2f64c11b35078e288f962ab\"...   \n",
      "\n",
      "                             tags.mlflow.source.name  \n",
      "0  /opt/anaconda3/lib/python3.12/site-packages/ip...  \n",
      "1  /opt/anaconda3/lib/python3.12/site-packages/ip...  \n",
      "2  /opt/anaconda3/lib/python3.12/site-packages/ip...  \n",
      "3  /opt/anaconda3/lib/python3.12/site-packages/ip...  \n",
      "\n",
      "[4 rows x 24 columns]\n"
     ]
    }
   ],
   "source": [
    "# check out the existing model runs\n",
    "all_runs = mlflow.search_runs(search_all_experiments=True)\n",
    "print(all_runs)"
   ]
  },
  {
   "cell_type": "code",
   "execution_count": 5,
   "metadata": {
    "tags": [
     "get-rf-run-id"
    ]
   },
   "outputs": [],
   "source": [
    "# extract model run ID for tuned random forest model\n",
    "run = all_runs['tags.mlflow.runName'] == 'Random Forest Hyperparameter Tuning'\n",
    "run_id = all_runs[run]['run_id'].iloc[0]"
   ]
  },
  {
   "cell_type": "code",
   "execution_count": 6,
   "metadata": {
    "tags": [
     "register-rf-model"
    ]
   },
   "outputs": [
    {
     "name": "stderr",
     "output_type": "stream",
     "text": [
      "Registered model 'apple_demand' already exists. Creating a new version of this model...\n",
      "Created version '2' of model 'apple_demand'.\n"
     ]
    }
   ],
   "source": [
    "# register this model\n",
    "result = mlflow.register_model(f'runs:/{run_id}', 'apple_demand')"
   ]
  },
  {
   "cell_type": "markdown",
   "metadata": {},
   "source": [
    "## Register model during new model run"
   ]
  },
  {
   "cell_type": "code",
   "execution_count": 7,
   "metadata": {
    "tags": [
     "register-xgboost-model"
    ]
   },
   "outputs": [
    {
     "name": "stderr",
     "output_type": "stream",
     "text": [
      "Registered model 'apple_demand' already exists. Creating a new version of this model...\n",
      "Created version '3' of model 'apple_demand'.\n"
     ]
    }
   ],
   "source": [
    "# Create data\n",
    "data = generate_apple_sales_data_with_promo_adjustment(base_demand=1_000, n_rows=1_000)\n",
    "X = data.drop(columns=[\"date\", \"demand\"])\n",
    "y = data[\"demand\"]\n",
    "\n",
    "# Split the data into training and validation sets\n",
    "X_train, X_val, y_train, y_val = train_test_split(X, y, test_size=0.2, random_state=42)\n",
    "\n",
    "# Train an XGBoost model\n",
    "xgb_model = XGBRegressor(n_estimators=100, learning_rate=0.1, max_depth=5, random_state=42)\n",
    "xgb_model.fit(X_train, y_train)\n",
    "\n",
    "# Evaluate the model\n",
    "y_pred = xgb_model.predict(X_val)\n",
    "rmse = np.sqrt(mean_squared_error(y_val, y_pred))\n",
    "\n",
    "# Log experiment details\n",
    "with mlflow.start_run(run_name=\"XGBoost Model\"):\n",
    "    mlflow.log_param(\"model_type\", \"XGBoost\")\n",
    "    mlflow.log_param(\"n_estimators\", 100)\n",
    "    mlflow.log_param(\"learning_rate\", 0.1)\n",
    "    mlflow.log_param(\"max_depth\", 5)\n",
    "    mlflow.log_metric(\"rmse\", rmse)\n",
    "    mlflow.xgboost.log_model(xgb_model, artifact_path=\"artifacts\")\n",
    "\n",
    "    # Register model programmatically\n",
    "    active_run = mlflow.active_run().info.run_id\n",
    "    model_uri = f\"runs:/{active_run}/model\"\n",
    "    registered_model = mlflow.register_model(model_uri=model_uri, name=\"apple_demand\")\n",
    "\n",
    "    # Add metadata: Tags and Aliases\n",
    "    client = mlflow.tracking.MlflowClient()\n",
    "    client.set_registered_model_tag(\n",
    "        registered_model.name, \"validation_status\", \"pending\"\n",
    "    )\n",
    "    client.set_registered_model_alias(\n",
    "        registered_model.name, \"challenger\", version=registered_model.version\n",
    "    )"
   ]
  },
  {
   "cell_type": "markdown",
   "metadata": {},
   "source": [
    "## Query registered models"
   ]
  },
  {
   "cell_type": "code",
   "execution_count": 8,
   "metadata": {
    "tags": [
     "search-registered-models"
    ]
   },
   "outputs": [
    {
     "data": {
      "text/plain": [
       "[<RegisteredModel: aliases={'challenger': '3', 'champion': '1'}, creation_timestamp=1737916057537, description='', last_updated_timestamp=1737916154049, latest_versions=[<ModelVersion: aliases=['challenger'], creation_timestamp=1737916154031, current_stage='None', description=None, last_updated_timestamp=1737916154031, name='apple_demand', run_id='021eea67d5ea4be5967ca90efe8866db', run_link=None, source='file:///Users/b294776/Desktop/workspace/training/UC/uc-bana-7075/ModelOps/mlruns/186119791991456899/021eea67d5ea4be5967ca90efe8866db/artifacts/model', status='READY', status_message=None, tags={}, user_id=None, version=3>], name='apple_demand', tags={'validation_status': 'pending'}>]"
      ]
     },
     "execution_count": 8,
     "metadata": {},
     "output_type": "execute_result"
    }
   ],
   "source": [
    "mlflow.search_registered_models()"
   ]
  },
  {
   "cell_type": "markdown",
   "metadata": {},
   "source": [
    "## Computing Environment"
   ]
  },
  {
   "cell_type": "code",
   "execution_count": 9,
   "metadata": {},
   "outputs": [
    {
     "name": "stdout",
     "output_type": "stream",
     "text": [
      "Python version: 3.12.7 | packaged by Anaconda, Inc. | (main, Oct  4 2024, 08:28:27) [Clang 14.0.6 ]\n",
      "\n",
      "mlflow==2.12.2\n",
      "numpy==1.26.4\n",
      "pandas==2.1.4\n",
      "scikit-learn==1.5.1\n",
      "xgboost==2.1.3\n"
     ]
    }
   ],
   "source": [
    "import sys\n",
    "\n",
    "print(f'Python version: {sys.version}', end='\\n\\n')\n",
    "\n",
    "with open('modelops-requirements.txt', 'r') as file:\n",
    "    for line in file:\n",
    "        print(line.strip())"
   ]
  }
 ],
 "metadata": {
  "kernelspec": {
   "display_name": "base",
   "language": "python",
   "name": "python3"
  },
  "language_info": {
   "codemirror_mode": {
    "name": "ipython",
    "version": 3
   },
   "file_extension": ".py",
   "mimetype": "text/x-python",
   "name": "python",
   "nbconvert_exporter": "python",
   "pygments_lexer": "ipython3",
   "version": "3.12.7"
  }
 },
 "nbformat": 4,
 "nbformat_minor": 2
}
