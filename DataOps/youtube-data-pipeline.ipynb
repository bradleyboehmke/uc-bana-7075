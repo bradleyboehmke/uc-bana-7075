{
 "cells": [
  {
   "cell_type": "markdown",
   "metadata": {},
   "source": [
    "# Example Youtube Data Pipeline\n",
    "\n",
    "This notebook provides an example of a simple data pipeline to ingest, process, validate, version, and store Youtube data as discussed in [https://bradleyboehmke.github.io/uc-bana-7085/04-dataops-build.html#requirements](https://bradleyboehmke.github.io/uc-bana-7085/04-dataops-build.html)."
   ]
  },
  {
   "cell_type": "markdown",
   "metadata": {},
   "source": [
    "## Requirements"
   ]
  },
  {
   "cell_type": "code",
   "execution_count": 1,
   "metadata": {
    "tags": [
     "requirements"
    ]
   },
   "outputs": [],
   "source": [
    "import os\n",
    "\n",
    "from dataops_utils import (\n",
    "    ingest_channel_video_ids,\n",
    "    ingest_video_stats,\n",
    "    ingest_video_transcript,\n",
    ")\n",
    "from dotenv import load_dotenv"
   ]
  },
  {
   "cell_type": "code",
   "execution_count": 2,
   "metadata": {
    "tags": [
     "pipeline-envars"
    ]
   },
   "outputs": [],
   "source": [
    "# I have my API key set as an environment variable\n",
    "load_dotenv()\n",
    "API_KEY = os.getenv('YOUTUBE_API_KEY')\n",
    "\n",
    "# In your case you can add your API key here\n",
    "if API_KEY is None:\n",
    "    API_KEY = \"INSERT_YOUR_YOUTUBE_API_KEY\"\n",
    "\n",
    "BASE_URL = \"https://www.googleapis.com/youtube/v3\"\n",
    "CHANNEL_ID = 'UCgUueMmSpcl-aCTt5CuCKQw'"
   ]
  },
  {
   "cell_type": "markdown",
   "metadata": {},
   "source": [
    "## Data Ingestion"
   ]
  },
  {
   "cell_type": "code",
   "execution_count": 3,
   "metadata": {
    "tags": [
     "ingest-video-ids"
    ]
   },
   "outputs": [
    {
     "name": "stderr",
     "output_type": "stream",
     "text": [
      "01/08/2025 04:21:37 PM: 248 video IDs have been ingested.\n"
     ]
    },
    {
     "data": {
      "text/plain": [
       "{'channel_id': 'UCgUueMmSpcl-aCTt5CuCKQw',\n",
       " 'video_id': 'fSHh01YT0-Q',\n",
       " 'datetime': '2025-01-07T18:50:32Z',\n",
       " 'title': 'Tiger Woods hits the ball off the heel.'}"
      ]
     },
     "execution_count": 3,
     "metadata": {},
     "output_type": "execute_result"
    }
   ],
   "source": [
    "# Ingest Youtube video IDs\n",
    "video_ids = ingest_channel_video_ids(API_KEY, CHANNEL_ID)\n",
    "\n",
    "# Example of what the first record looks like\n",
    "video_ids[0]"
   ]
  },
  {
   "cell_type": "code",
   "execution_count": 4,
   "metadata": {
    "tags": [
     "ingest-video-stats"
    ]
   },
   "outputs": [
    {
     "name": "stderr",
     "output_type": "stream",
     "text": [
      "[00:00<?] 0/248 |   0%|           ?it/s"
     ]
    },
    {
     "name": "stderr",
     "output_type": "stream",
     "text": [
      "[00:46<00:00] 248/248 | 100%|██████████  5.37it/s\n",
      "01/08/2025 04:22:23 PM: Stats for 248 video IDs have been ingested.\n"
     ]
    },
    {
     "data": {
      "text/plain": [
       "{'channel_id': 'UCgUueMmSpcl-aCTt5CuCKQw',\n",
       " 'video_id': 'fSHh01YT0-Q',\n",
       " 'datetime': '2025-01-07T18:50:32Z',\n",
       " 'title': 'Tiger Woods hits the ball off the heel.',\n",
       " 'views': '31413',\n",
       " 'likes': '1109',\n",
       " 'comments': '16'}"
      ]
     },
     "execution_count": 4,
     "metadata": {},
     "output_type": "execute_result"
    }
   ],
   "source": [
    "# Ingest Youtube video statistics\n",
    "video_data = ingest_video_stats(video_ids, API_KEY)\n",
    "\n",
    "# Example of the stats collected for the first video\n",
    "video_data[0]"
   ]
  },
  {
   "cell_type": "code",
   "execution_count": 5,
   "metadata": {
    "tags": [
     "final-raw-data"
    ]
   },
   "outputs": [
    {
     "name": "stderr",
     "output_type": "stream",
     "text": [
      "[03:56<00:00] 248/248 | 100%|██████████  1.05it/s\n"
     ]
    },
    {
     "data": {
      "text/plain": [
       "{'channel_id': 'UCgUueMmSpcl-aCTt5CuCKQw',\n",
       " 'video_id': 'fSHh01YT0-Q',\n",
       " 'datetime': '2025-01-07T18:50:32Z',\n",
       " 'title': 'Tiger Woods hits the ball off the heel.',\n",
       " 'views': '31413',\n",
       " 'likes': '1109',\n",
       " 'comments': '16',\n",
       " 'transcript': \"over the course of my career I've always hit the ball off the heel this is one of the reason why I still use my old te's O Okay so if I'm going to hit one in play that's how high you would Tee It Up if I have to hit one in play if I have to hit one out of the wind okay I like that what's wrong with that wow that's right at the pole this keeps you on top and Swinging more left and as I said I would try and hit it for me over a course of my career I've always hit ball off the heel\"}"
      ]
     },
     "execution_count": 5,
     "metadata": {},
     "output_type": "execute_result"
    }
   ],
   "source": [
    "# Ingest Youtube video transcripts\n",
    "video_data = ingest_video_transcript(video_data)\n",
    "\n",
    "# Example of the final raw data that includes\n",
    "# video ID, title, date, stats, and transcript\n",
    "video_data[0]"
   ]
  },
  {
   "cell_type": "markdown",
   "metadata": {},
   "source": [
    "## Data Processing"
   ]
  },
  {
   "cell_type": "markdown",
   "metadata": {},
   "source": [
    "## Final Data Validation"
   ]
  },
  {
   "cell_type": "markdown",
   "metadata": {},
   "source": [
    "## Data Versioning & Storage"
   ]
  },
  {
   "cell_type": "markdown",
   "metadata": {},
   "source": []
  },
  {
   "cell_type": "markdown",
   "metadata": {},
   "source": [
    "## Computing Environment"
   ]
  },
  {
   "cell_type": "code",
   "execution_count": 6,
   "metadata": {
    "tags": [
     "dataops-rqmts"
    ]
   },
   "outputs": [
    {
     "name": "stdout",
     "output_type": "stream",
     "text": [
      "Python version: 3.13.1 | packaged by conda-forge | (main, Dec  5 2024, 21:18:03) [Clang 18.1.8 ]\n",
      "\n",
      "jupyterlab==4.1.6\n",
      "matplotlib==3.8.0\n",
      "polars==0.20.21\n",
      "python-dotenv==0.21.0\n",
      "tqdm==4.63.0\n",
      "youtube_transcript_api==0.6.2\n"
     ]
    }
   ],
   "source": [
    "import sys\n",
    "\n",
    "print(f'Python version: {sys.version}', end='\\n\\n')\n",
    "\n",
    "with open('dataops-requirements.txt', 'r') as file:\n",
    "    for line in file:\n",
    "        print(line.strip())\n"
   ]
  },
  {
   "cell_type": "code",
   "execution_count": null,
   "metadata": {},
   "outputs": [],
   "source": []
  }
 ],
 "metadata": {
  "kernelspec": {
   "display_name": "bana7085",
   "language": "python",
   "name": "python3"
  },
  "language_info": {
   "codemirror_mode": {
    "name": "ipython",
    "version": 3
   },
   "file_extension": ".py",
   "mimetype": "text/x-python",
   "name": "python",
   "nbconvert_exporter": "python",
   "pygments_lexer": "ipython3",
   "version": "3.13.1"
  }
 },
 "nbformat": 4,
 "nbformat_minor": 2
}
