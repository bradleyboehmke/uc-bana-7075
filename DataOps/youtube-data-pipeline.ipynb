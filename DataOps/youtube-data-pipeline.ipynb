{
 "cells": [
  {
   "cell_type": "markdown",
   "metadata": {},
   "source": [
    "# Example Youtube Data Pipeline\n",
    "\n",
    "This notebook provides an example of a simple data pipeline to ingest, process, validate, version, and store Youtube data as discussed in [https://bradleyboehmke.github.io/uc-bana-7085/04-dataops-build.html#hands-on-example-a-youtube-data-pipeline](https://bradleyboehmke.github.io/uc-bana-7085/04-dataops-build.html#hands-on-example-a-youtube-data-pipeline)."
   ]
  },
  {
   "cell_type": "markdown",
   "metadata": {},
   "source": [
    "## Requirements"
   ]
  },
  {
   "cell_type": "code",
   "execution_count": 1,
   "metadata": {
    "tags": [
     "requirements"
    ]
   },
   "outputs": [],
   "source": [
    "import great_expectations as gx\n",
    "import os\n",
    "import numpy as np\n",
    "import pandas as pd\n",
    "import unicodedata\n",
    "\n",
    "from dataops_utils import (\n",
    "    ingest_channel_video_ids,\n",
    "    ingest_video_stats,\n",
    "    ingest_video_transcript,\n",
    ")\n",
    "from dotenv import load_dotenv"
   ]
  },
  {
   "cell_type": "code",
   "execution_count": 2,
   "metadata": {
    "tags": [
     "pipeline-envars"
    ]
   },
   "outputs": [],
   "source": [
    "# I have my API key set as an environment variable\n",
    "load_dotenv()\n",
    "API_KEY = os.getenv('YOUTUBE_API_KEY')\n",
    "\n",
    "# In your case you can add your API key here\n",
    "if API_KEY is None:\n",
    "    API_KEY = \"INSERT_YOUR_YOUTUBE_API_KEY\"\n",
    "\n",
    "BASE_URL = \"https://www.googleapis.com/youtube/v3\"\n",
    "CHANNEL_ID = 'UCgUueMmSpcl-aCTt5CuCKQw'"
   ]
  },
  {
   "cell_type": "markdown",
   "metadata": {},
   "source": [
    "## Data Ingestion"
   ]
  },
  {
   "cell_type": "code",
   "execution_count": 3,
   "metadata": {
    "tags": [
     "ingest-video-ids"
    ]
   },
   "outputs": [
    {
     "name": "stderr",
     "output_type": "stream",
     "text": [
      "01/12/2025 12:35:05 PM: 247 video IDs have been ingested.\n"
     ]
    },
    {
     "data": {
      "text/plain": [
       "{'channel_id': 'UCgUueMmSpcl-aCTt5CuCKQw',\n",
       " 'video_id': 'fSHh01YT0-Q',\n",
       " 'datetime': '2025-01-07T18:50:32Z',\n",
       " 'title': 'Tiger Woods hits the ball off the heel.'}"
      ]
     },
     "execution_count": 3,
     "metadata": {},
     "output_type": "execute_result"
    }
   ],
   "source": [
    "# Ingest Youtube video IDs\n",
    "video_ids = ingest_channel_video_ids(API_KEY, CHANNEL_ID)\n",
    "\n",
    "# Example of what the first record looks like\n",
    "video_ids[0]"
   ]
  },
  {
   "cell_type": "code",
   "execution_count": 4,
   "metadata": {
    "tags": [
     "ingest-video-stats"
    ]
   },
   "outputs": [
    {
     "name": "stderr",
     "output_type": "stream",
     "text": [
      "/opt/anaconda3/lib/python3.12/site-packages/tqdm/std.py:468: DeprecationWarning: datetime.datetime.utcfromtimestamp() is deprecated and scheduled for removal in a future version. Use timezone-aware objects to represent datetimes in UTC: datetime.datetime.fromtimestamp(timestamp, datetime.UTC).\n",
      "  if rate and total else datetime.utcfromtimestamp(0))\n",
      "[00:42<00:00] 247/247 | 100%|██████████  5.87it/s\n",
      "01/12/2025 12:35:47 PM: Stats for 247 video IDs have been ingested.\n"
     ]
    },
    {
     "data": {
      "text/plain": [
       "{'channel_id': 'UCgUueMmSpcl-aCTt5CuCKQw',\n",
       " 'video_id': 'fSHh01YT0-Q',\n",
       " 'datetime': '2025-01-07T18:50:32Z',\n",
       " 'title': 'Tiger Woods hits the ball off the heel.',\n",
       " 'views': '59334',\n",
       " 'likes': '1881',\n",
       " 'comments': '30'}"
      ]
     },
     "execution_count": 4,
     "metadata": {},
     "output_type": "execute_result"
    }
   ],
   "source": [
    "# Ingest Youtube video statistics\n",
    "video_data = ingest_video_stats(video_ids, API_KEY)\n",
    "\n",
    "# Example of the stats collected for the first video\n",
    "video_data[0]"
   ]
  },
  {
   "cell_type": "code",
   "execution_count": 5,
   "metadata": {
    "tags": [
     "final-raw-data"
    ]
   },
   "outputs": [
    {
     "name": "stderr",
     "output_type": "stream",
     "text": [
      "[04:06<00:00] 247/247 | 100%|██████████  1.00it/s\n"
     ]
    },
    {
     "data": {
      "text/plain": [
       "{'channel_id': 'UCgUueMmSpcl-aCTt5CuCKQw',\n",
       " 'video_id': 'fSHh01YT0-Q',\n",
       " 'datetime': '2025-01-07T18:50:32Z',\n",
       " 'title': 'Tiger Woods hits the ball off the heel.',\n",
       " 'views': '59334',\n",
       " 'likes': '1881',\n",
       " 'comments': '30',\n",
       " 'transcript': \"over the course of my career I've always hit the ball off the heel this is one of the reason why I still use my old te's O Okay so if I'm going to hit one in play that's how high you would Tee It Up if I have to hit one in play if I have to hit one out of the wind okay I like that what's wrong with that wow that's right at the pole this keeps you on top and Swinging more left and as I said I would try and hit it for me over a course of my career I've always hit ball off the heel\"}"
      ]
     },
     "execution_count": 5,
     "metadata": {},
     "output_type": "execute_result"
    }
   ],
   "source": [
    "# Ingest Youtube video transcripts\n",
    "video_data = ingest_video_transcript(video_data)\n",
    "\n",
    "# Example of the final raw data that includes\n",
    "# video ID, title, date, stats, and transcript\n",
    "video_data[0]"
   ]
  },
  {
   "cell_type": "markdown",
   "metadata": {},
   "source": [
    "## Data Processing"
   ]
  },
  {
   "cell_type": "code",
   "execution_count": 6,
   "metadata": {
    "tags": [
     "data-preprocess-dataframe"
    ]
   },
   "outputs": [
    {
     "data": {
      "text/html": [
       "<div>\n",
       "<style scoped>\n",
       "    .dataframe tbody tr th:only-of-type {\n",
       "        vertical-align: middle;\n",
       "    }\n",
       "\n",
       "    .dataframe tbody tr th {\n",
       "        vertical-align: top;\n",
       "    }\n",
       "\n",
       "    .dataframe thead th {\n",
       "        text-align: right;\n",
       "    }\n",
       "</style>\n",
       "<table border=\"1\" class=\"dataframe\">\n",
       "  <thead>\n",
       "    <tr style=\"text-align: right;\">\n",
       "      <th></th>\n",
       "      <th>channel_id</th>\n",
       "      <th>video_id</th>\n",
       "      <th>datetime</th>\n",
       "      <th>title</th>\n",
       "      <th>views</th>\n",
       "      <th>likes</th>\n",
       "      <th>comments</th>\n",
       "      <th>transcript</th>\n",
       "    </tr>\n",
       "  </thead>\n",
       "  <tbody>\n",
       "    <tr>\n",
       "      <th>0</th>\n",
       "      <td>UCgUueMmSpcl-aCTt5CuCKQw</td>\n",
       "      <td>fSHh01YT0-Q</td>\n",
       "      <td>2025-01-07T18:50:32Z</td>\n",
       "      <td>Tiger Woods hits the ball off the heel.</td>\n",
       "      <td>59334</td>\n",
       "      <td>1881</td>\n",
       "      <td>30</td>\n",
       "      <td>over the course of my career I've always hit t...</td>\n",
       "    </tr>\n",
       "    <tr>\n",
       "      <th>1</th>\n",
       "      <td>UCgUueMmSpcl-aCTt5CuCKQw</td>\n",
       "      <td>erzLT7fy2r0</td>\n",
       "      <td>2025-01-07T17:56:07Z</td>\n",
       "      <td>Tiger Woods liked my golf swing!</td>\n",
       "      <td>115716</td>\n",
       "      <td>4212</td>\n",
       "      <td>72</td>\n",
       "      <td>what's wrong with that yeah that came off you ...</td>\n",
       "    </tr>\n",
       "    <tr>\n",
       "      <th>2</th>\n",
       "      <td>UCgUueMmSpcl-aCTt5CuCKQw</td>\n",
       "      <td>3O08SnyZ88U</td>\n",
       "      <td>2025-01-07T17:07:04Z</td>\n",
       "      <td>Tiger Woods teaches me how to hit it straight!</td>\n",
       "      <td>482074</td>\n",
       "      <td>15750</td>\n",
       "      <td>124</td>\n",
       "      <td>what did you do in your career when you had a ...</td>\n",
       "    </tr>\n",
       "    <tr>\n",
       "      <th>3</th>\n",
       "      <td>UCgUueMmSpcl-aCTt5CuCKQw</td>\n",
       "      <td>E6gPs8E4138</td>\n",
       "      <td>2025-01-07T17:00:07Z</td>\n",
       "      <td>Tiger Woods Gives Me a Golf Lesson</td>\n",
       "      <td>1664852</td>\n",
       "      <td>71879</td>\n",
       "      <td>4097</td>\n",
       "      <td>all right guys today's the day today is the da...</td>\n",
       "    </tr>\n",
       "    <tr>\n",
       "      <th>4</th>\n",
       "      <td>UCgUueMmSpcl-aCTt5CuCKQw</td>\n",
       "      <td>WktrsZC8VJI</td>\n",
       "      <td>2024-12-26T20:00:02Z</td>\n",
       "      <td>It’s Coming to an End. (Episode 7)</td>\n",
       "      <td>519212</td>\n",
       "      <td>16328</td>\n",
       "      <td>1193</td>\n",
       "      <td>we are headed to our final video on my channel...</td>\n",
       "    </tr>\n",
       "  </tbody>\n",
       "</table>\n",
       "</div>"
      ],
      "text/plain": [
       "                 channel_id     video_id              datetime  \\\n",
       "0  UCgUueMmSpcl-aCTt5CuCKQw  fSHh01YT0-Q  2025-01-07T18:50:32Z   \n",
       "1  UCgUueMmSpcl-aCTt5CuCKQw  erzLT7fy2r0  2025-01-07T17:56:07Z   \n",
       "2  UCgUueMmSpcl-aCTt5CuCKQw  3O08SnyZ88U  2025-01-07T17:07:04Z   \n",
       "3  UCgUueMmSpcl-aCTt5CuCKQw  E6gPs8E4138  2025-01-07T17:00:07Z   \n",
       "4  UCgUueMmSpcl-aCTt5CuCKQw  WktrsZC8VJI  2024-12-26T20:00:02Z   \n",
       "\n",
       "                                            title    views  likes comments  \\\n",
       "0         Tiger Woods hits the ball off the heel.    59334   1881       30   \n",
       "1                Tiger Woods liked my golf swing!   115716   4212       72   \n",
       "2  Tiger Woods teaches me how to hit it straight!   482074  15750      124   \n",
       "3              Tiger Woods Gives Me a Golf Lesson  1664852  71879     4097   \n",
       "4              It’s Coming to an End. (Episode 7)   519212  16328     1193   \n",
       "\n",
       "                                          transcript  \n",
       "0  over the course of my career I've always hit t...  \n",
       "1  what's wrong with that yeah that came off you ...  \n",
       "2  what did you do in your career when you had a ...  \n",
       "3  all right guys today's the day today is the da...  \n",
       "4  we are headed to our final video on my channel...  "
      ]
     },
     "execution_count": 6,
     "metadata": {},
     "output_type": "execute_result"
    }
   ],
   "source": [
    "raw_data = pd.DataFrame(video_data)\n",
    "raw_data.head()"
   ]
  },
  {
   "cell_type": "code",
   "execution_count": 7,
   "metadata": {
    "tags": [
     "data-preprocess-clean"
    ]
   },
   "outputs": [
    {
     "data": {
      "text/html": [
       "<div>\n",
       "<style scoped>\n",
       "    .dataframe tbody tr th:only-of-type {\n",
       "        vertical-align: middle;\n",
       "    }\n",
       "\n",
       "    .dataframe tbody tr th {\n",
       "        vertical-align: top;\n",
       "    }\n",
       "\n",
       "    .dataframe thead th {\n",
       "        text-align: right;\n",
       "    }\n",
       "</style>\n",
       "<table border=\"1\" class=\"dataframe\">\n",
       "  <thead>\n",
       "    <tr style=\"text-align: right;\">\n",
       "      <th></th>\n",
       "      <th>channel_id</th>\n",
       "      <th>video_id</th>\n",
       "      <th>datetime</th>\n",
       "      <th>title</th>\n",
       "      <th>views</th>\n",
       "      <th>likes</th>\n",
       "      <th>comments</th>\n",
       "      <th>transcript</th>\n",
       "      <th>transcript_length</th>\n",
       "    </tr>\n",
       "  </thead>\n",
       "  <tbody>\n",
       "    <tr>\n",
       "      <th>0</th>\n",
       "      <td>UCgUueMmSpcl-aCTt5CuCKQw</td>\n",
       "      <td>fSHh01YT0-Q</td>\n",
       "      <td>2025-01-07 18:50:32+00:00</td>\n",
       "      <td>Tiger Woods hits the ball off the heel.</td>\n",
       "      <td>59334</td>\n",
       "      <td>1881</td>\n",
       "      <td>30</td>\n",
       "      <td>over the course of my career I've always hit t...</td>\n",
       "      <td>483</td>\n",
       "    </tr>\n",
       "    <tr>\n",
       "      <th>1</th>\n",
       "      <td>UCgUueMmSpcl-aCTt5CuCKQw</td>\n",
       "      <td>erzLT7fy2r0</td>\n",
       "      <td>2025-01-07 17:56:07+00:00</td>\n",
       "      <td>Tiger Woods liked my golf swing!</td>\n",
       "      <td>115716</td>\n",
       "      <td>4212</td>\n",
       "      <td>72</td>\n",
       "      <td>what's wrong with that yeah that came off you ...</td>\n",
       "      <td>208</td>\n",
       "    </tr>\n",
       "    <tr>\n",
       "      <th>2</th>\n",
       "      <td>UCgUueMmSpcl-aCTt5CuCKQw</td>\n",
       "      <td>3O08SnyZ88U</td>\n",
       "      <td>2025-01-07 17:07:04+00:00</td>\n",
       "      <td>Tiger Woods teaches me how to hit it straight!</td>\n",
       "      <td>482074</td>\n",
       "      <td>15750</td>\n",
       "      <td>124</td>\n",
       "      <td>what did you do in your career when you had a ...</td>\n",
       "      <td>646</td>\n",
       "    </tr>\n",
       "    <tr>\n",
       "      <th>3</th>\n",
       "      <td>UCgUueMmSpcl-aCTt5CuCKQw</td>\n",
       "      <td>E6gPs8E4138</td>\n",
       "      <td>2025-01-07 17:00:07+00:00</td>\n",
       "      <td>Tiger Woods Gives Me a Golf Lesson</td>\n",
       "      <td>1664852</td>\n",
       "      <td>71879</td>\n",
       "      <td>4097</td>\n",
       "      <td>all right guys today's the day today is the da...</td>\n",
       "      <td>16046</td>\n",
       "    </tr>\n",
       "    <tr>\n",
       "      <th>4</th>\n",
       "      <td>UCgUueMmSpcl-aCTt5CuCKQw</td>\n",
       "      <td>WktrsZC8VJI</td>\n",
       "      <td>2024-12-26 20:00:02+00:00</td>\n",
       "      <td>Its Coming to an End. (Episode 7)</td>\n",
       "      <td>519212</td>\n",
       "      <td>16328</td>\n",
       "      <td>1193</td>\n",
       "      <td>we are headed to our final video on my channel...</td>\n",
       "      <td>56511</td>\n",
       "    </tr>\n",
       "  </tbody>\n",
       "</table>\n",
       "</div>"
      ],
      "text/plain": [
       "                 channel_id     video_id                  datetime  \\\n",
       "0  UCgUueMmSpcl-aCTt5CuCKQw  fSHh01YT0-Q 2025-01-07 18:50:32+00:00   \n",
       "1  UCgUueMmSpcl-aCTt5CuCKQw  erzLT7fy2r0 2025-01-07 17:56:07+00:00   \n",
       "2  UCgUueMmSpcl-aCTt5CuCKQw  3O08SnyZ88U 2025-01-07 17:07:04+00:00   \n",
       "3  UCgUueMmSpcl-aCTt5CuCKQw  E6gPs8E4138 2025-01-07 17:00:07+00:00   \n",
       "4  UCgUueMmSpcl-aCTt5CuCKQw  WktrsZC8VJI 2024-12-26 20:00:02+00:00   \n",
       "\n",
       "                                            title    views  likes  comments  \\\n",
       "0         Tiger Woods hits the ball off the heel.    59334   1881        30   \n",
       "1                Tiger Woods liked my golf swing!   115716   4212        72   \n",
       "2  Tiger Woods teaches me how to hit it straight!   482074  15750       124   \n",
       "3              Tiger Woods Gives Me a Golf Lesson  1664852  71879      4097   \n",
       "4               Its Coming to an End. (Episode 7)   519212  16328      1193   \n",
       "\n",
       "                                          transcript  transcript_length  \n",
       "0  over the course of my career I've always hit t...                483  \n",
       "1  what's wrong with that yeah that came off you ...                208  \n",
       "2  what did you do in your career when you had a ...                646  \n",
       "3  all right guys today's the day today is the da...              16046  \n",
       "4  we are headed to our final video on my channel...              56511  "
      ]
     },
     "execution_count": 7,
     "metadata": {},
     "output_type": "execute_result"
    }
   ],
   "source": [
    "# Remove rows with missing data\n",
    "cleaned_data = raw_data.dropna()\n",
    "\n",
    "# Remove duplicate rows\n",
    "cleaned_data = cleaned_data.drop_duplicates()\n",
    "\n",
    "# Remove any inconsistent data types\n",
    "for col in ['views', 'likes', 'comments']:\n",
    "    cleaned_data[col] = pd.to_numeric(cleaned_data[col], errors='coerce')\n",
    "\n",
    "# Remove any observations that have invalid datetime values\n",
    "cleaned_data['datetime'] = pd.to_datetime(cleaned_data['datetime'], errors='coerce')\n",
    "cleaned_data = cleaned_data.dropna(subset=['datetime'])\n",
    "\n",
    "# Remove any observations where the views value is less than 3 standard deviations\n",
    "# from the mean\n",
    "mean_views = cleaned_data['views'].mean()\n",
    "std_views = cleaned_data['views'].std()\n",
    "cleaned_data = cleaned_data[cleaned_data['views'] >= (mean_views - 3 * std_views)]\n",
    "\n",
    "# Remove any observations where the transcript length is less than 3 standard deviations\n",
    "# from the mean transcript length\n",
    "cleaned_data['transcript_length'] = cleaned_data['transcript'].apply(lambda x: len(x) if pd.notnull(x) else 0)\n",
    "mean_transcript_length = cleaned_data['transcript_length'].mean()\n",
    "std_transcript_length = cleaned_data['transcript_length'].std()\n",
    "cleaned_data = cleaned_data[cleaned_data['transcript_length'] >= (mean_transcript_length - 3 * std_transcript_length)]\n",
    "\n",
    "# Remove/clean the title and transcript columns for non-character string values\n",
    "# (i.e. unicode characters)\n",
    "def clean_text(text):\n",
    "    if isinstance(text, str):\n",
    "        return unicodedata.normalize('NFKD', text).encode('ascii', 'ignore').decode('ascii')\n",
    "    return text\n",
    "\n",
    "cleaned_data['title'] = cleaned_data['title'].apply(clean_text)\n",
    "cleaned_data['transcript'] = cleaned_data['transcript'].apply(clean_text)\n",
    "\n",
    "cleaned_data.head()"
   ]
  },
  {
   "cell_type": "markdown",
   "metadata": {},
   "source": [
    "## Final Data Validation"
   ]
  },
  {
   "cell_type": "code",
   "execution_count": 3,
   "metadata": {},
   "outputs": [
    {
     "name": "stderr",
     "output_type": "stream",
     "text": [
      "/opt/anaconda3/lib/python3.12/pty.py:95: DeprecationWarning: This process (pid=21481) is multi-threaded, use of forkpty() may lead to deadlocks in the child.\n",
      "  pid, fd = os.forkpty()\n"
     ]
    },
    {
     "name": "stdout",
     "output_type": "stream",
     "text": [
      "zsh:1: command not found: great_expectations\n"
     ]
    }
   ],
   "source": [
    "!great_expectations init"
   ]
  },
  {
   "cell_type": "code",
   "execution_count": 2,
   "metadata": {},
   "outputs": [
    {
     "name": "stderr",
     "output_type": "stream",
     "text": [
      "01/12/2025 01:01:59 PM: Could not find local file-backed GX project\n",
      "01/12/2025 01:01:59 PM: Created temporary directory '/var/folders/8f/c06lv6q17tjbyjv2nkt0_s4s1sh0tg/T/tmp8zi9mhka' for ephemeral docs site\n",
      "01/12/2025 01:01:59 PM: Loading 'datasources' ->\n",
      "[]\n"
     ]
    },
    {
     "name": "stderr",
     "output_type": "stream",
     "text": [
      "01/12/2025 01:02:00 PM: Backing off send_request(...) for 0.9s (requests.exceptions.SSLError: HTTPSConnectionPool(host='posthog.greatexpectations.io', port=443): Max retries exceeded with url: /batch/ (Caused by SSLError(SSLCertVerificationError(1, '[SSL: CERTIFICATE_VERIFY_FAILED] certificate verify failed: self-signed certificate in certificate chain (_ssl.c:1000)'))))\n",
      "01/12/2025 01:02:01 PM: Backing off send_request(...) for 1.8s (requests.exceptions.SSLError: HTTPSConnectionPool(host='posthog.greatexpectations.io', port=443): Max retries exceeded with url: /batch/ (Caused by SSLError(SSLCertVerificationError(1, '[SSL: CERTIFICATE_VERIFY_FAILED] certificate verify failed: self-signed certificate in certificate chain (_ssl.c:1000)'))))\n",
      "01/12/2025 01:02:02 PM: Backing off send_request(...) for 2.8s (requests.exceptions.SSLError: HTTPSConnectionPool(host='posthog.greatexpectations.io', port=443): Max retries exceeded with url: /batch/ (Caused by SSLError(SSLCertVerificationError(1, '[SSL: CERTIFICATE_VERIFY_FAILED] certificate verify failed: self-signed certificate in certificate chain (_ssl.c:1000)'))))\n",
      "01/12/2025 01:02:05 PM: Giving up send_request(...) after 4 tries (requests.exceptions.SSLError: HTTPSConnectionPool(host='posthog.greatexpectations.io', port=443): Max retries exceeded with url: /batch/ (Caused by SSLError(SSLCertVerificationError(1, '[SSL: CERTIFICATE_VERIFY_FAILED] certificate verify failed: self-signed certificate in certificate chain (_ssl.c:1000)'))))\n",
      "01/12/2025 01:02:05 PM: error uploading: HTTPSConnectionPool(host='posthog.greatexpectations.io', port=443): Max retries exceeded with url: /batch/ (Caused by SSLError(SSLCertVerificationError(1, '[SSL: CERTIFICATE_VERIFY_FAILED] certificate verify failed: self-signed certificate in certificate chain (_ssl.c:1000)')))\n"
     ]
    }
   ],
   "source": [
    "context = gx.get_context()"
   ]
  },
  {
   "cell_type": "markdown",
   "metadata": {},
   "source": [
    "## Data Versioning & Storage"
   ]
  },
  {
   "cell_type": "markdown",
   "metadata": {},
   "source": []
  },
  {
   "cell_type": "markdown",
   "metadata": {},
   "source": [
    "## Computing Environment"
   ]
  },
  {
   "cell_type": "code",
   "execution_count": 4,
   "metadata": {
    "tags": [
     "dataops-rqmts"
    ]
   },
   "outputs": [
    {
     "name": "stdout",
     "output_type": "stream",
     "text": [
      "Python version: 3.12.7 | packaged by Anaconda, Inc. | (main, Oct  4 2024, 08:28:27) [Clang 14.0.6 ]\n",
      "\n",
      "great_expectations==1.3.1\n",
      "jupyterlab==4.1.6\n",
      "matplotlib==3.8.0\n",
      "numpy==1.26.4\n",
      "pandas<=2.2\n",
      "python-dotenv==0.21.0\n",
      "tqdm==4.63.0\n",
      "youtube_transcript_api==0.6.2\n"
     ]
    }
   ],
   "source": [
    "import sys\n",
    "\n",
    "print(f'Python version: {sys.version}', end='\\n\\n')\n",
    "\n",
    "with open('dataops-requirements.txt', 'r') as file:\n",
    "    for line in file:\n",
    "        print(line.strip())\n"
   ]
  },
  {
   "cell_type": "code",
   "execution_count": null,
   "metadata": {},
   "outputs": [],
   "source": []
  }
 ],
 "metadata": {
  "kernelspec": {
   "display_name": "base",
   "language": "python",
   "name": "python3"
  },
  "language_info": {
   "codemirror_mode": {
    "name": "ipython",
    "version": 3
   },
   "file_extension": ".py",
   "mimetype": "text/x-python",
   "name": "python",
   "nbconvert_exporter": "python",
   "pygments_lexer": "ipython3",
   "version": "3.12.7"
  }
 },
 "nbformat": 4,
 "nbformat_minor": 2
}
