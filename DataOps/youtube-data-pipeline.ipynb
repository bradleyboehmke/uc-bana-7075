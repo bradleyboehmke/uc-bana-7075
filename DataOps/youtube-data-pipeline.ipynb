{
 "cells": [
  {
   "cell_type": "markdown",
   "metadata": {},
   "source": [
    "# Example Youtube Data Pipeline\n",
    "\n",
    "This notebook provides an example of a simple data pipeline to ingest, process, validate, version, and store Youtube data as discussed in [https://bradleyboehmke.github.io/uc-bana-7075/04-dataops-build.html#hands-on-example-a-youtube-data-pipeline](https://bradleyboehmke.github.io/uc-bana-7075/04-dataops-build.html#hands-on-example-a-youtube-data-pipeline)."
   ]
  },
  {
   "cell_type": "markdown",
   "metadata": {},
   "source": [
    "## Requirements"
   ]
  },
  {
   "cell_type": "code",
   "execution_count": 1,
   "metadata": {
    "tags": [
     "requirements"
    ]
   },
   "outputs": [],
   "source": [
    "import great_expectations as gx\n",
    "import os\n",
    "import numpy as np\n",
    "import pandas as pd\n",
    "import unicodedata\n",
    "import warnings\n",
    "\n",
    "from dataops_utils import (\n",
    "    ingest_channel_video_ids,\n",
    "    ingest_video_stats,\n",
    "    ingest_video_transcript,\n",
    ")\n",
    "from dotenv import load_dotenv"
   ]
  },
  {
   "cell_type": "code",
   "execution_count": 2,
   "metadata": {},
   "outputs": [],
   "source": [
    "# silence some unnecessary messages caused by great expectations\n",
    "warnings.filterwarnings('ignore')"
   ]
  },
  {
   "cell_type": "code",
   "execution_count": 3,
   "metadata": {
    "tags": [
     "pipeline-envars"
    ]
   },
   "outputs": [],
   "source": [
    "# I have my API key set as an environment variable\n",
    "load_dotenv()\n",
    "API_KEY = os.getenv('YOUTUBE_API_KEY')\n",
    "\n",
    "# In your case you can add your API key here\n",
    "if API_KEY is None:\n",
    "    API_KEY = \"INSERT_YOUR_YOUTUBE_API_KEY\"\n",
    "\n",
    "BASE_URL = \"https://www.googleapis.com/youtube/v3\"\n",
    "CHANNEL_ID = 'UCgUueMmSpcl-aCTt5CuCKQw'"
   ]
  },
  {
   "cell_type": "markdown",
   "metadata": {},
   "source": [
    "## Data Ingestion"
   ]
  },
  {
   "cell_type": "code",
   "execution_count": 4,
   "metadata": {
    "tags": [
     "ingest-video-ids"
    ]
   },
   "outputs": [
    {
     "data": {
      "text/plain": [
       "{'channel_id': 'UCgUueMmSpcl-aCTt5CuCKQw',\n",
       " 'video_id': 'wzrIKGcOlsU',\n",
       " 'datetime': '2025-01-13T17:00:24Z',\n",
       " 'title': 'Rory McIlroy has another gear.'}"
      ]
     },
     "execution_count": 4,
     "metadata": {},
     "output_type": "execute_result"
    }
   ],
   "source": [
    "# Ingest Youtube video IDs\n",
    "video_ids = ingest_channel_video_ids(API_KEY, CHANNEL_ID)\n",
    "\n",
    "# Example of what the first record looks like\n",
    "video_ids[0]"
   ]
  },
  {
   "cell_type": "code",
   "execution_count": 5,
   "metadata": {
    "tags": [
     "ingest-video-stats"
    ]
   },
   "outputs": [
    {
     "name": "stderr",
     "output_type": "stream",
     "text": [
      "[00:43<00:00] 250/250 | 100%|██████████  5.77it/s\n"
     ]
    },
    {
     "data": {
      "text/plain": [
       "{'channel_id': 'UCgUueMmSpcl-aCTt5CuCKQw',\n",
       " 'video_id': 'wzrIKGcOlsU',\n",
       " 'datetime': '2025-01-13T17:00:24Z',\n",
       " 'title': 'Rory McIlroy has another gear.',\n",
       " 'views': '3142',\n",
       " 'likes': '304',\n",
       " 'comments': '16'}"
      ]
     },
     "execution_count": 5,
     "metadata": {},
     "output_type": "execute_result"
    }
   ],
   "source": [
    "# Ingest Youtube video statistics\n",
    "video_data = ingest_video_stats(video_ids, API_KEY)\n",
    "\n",
    "# Example of the stats collected for the first video\n",
    "video_data[0]"
   ]
  },
  {
   "cell_type": "code",
   "execution_count": 6,
   "metadata": {
    "tags": [
     "final-raw-data"
    ]
   },
   "outputs": [
    {
     "name": "stderr",
     "output_type": "stream",
     "text": [
      "[04:13<00:00] 250/250 | 100%|██████████  1.01s/it\n"
     ]
    },
    {
     "data": {
      "text/plain": [
       "{'channel_id': 'UCgUueMmSpcl-aCTt5CuCKQw',\n",
       " 'video_id': 'wzrIKGcOlsU',\n",
       " 'datetime': '2025-01-13T17:00:24Z',\n",
       " 'title': 'Rory McIlroy has another gear.',\n",
       " 'views': '3142',\n",
       " 'likes': '304',\n",
       " 'comments': '16',\n",
       " 'transcript': \"I've never seen you go after the ball like this there it is wow that was it that was so good 190 190 nice that was hit well good what was that 72 as well that was good that was nice that was FL that was nice 127 A2 191 that's gone 34 there you go\"}"
      ]
     },
     "execution_count": 6,
     "metadata": {},
     "output_type": "execute_result"
    }
   ],
   "source": [
    "# Ingest Youtube video transcripts\n",
    "video_data = ingest_video_transcript(video_data)\n",
    "\n",
    "# Example of the final raw data that includes\n",
    "# video ID, title, date, stats, and transcript\n",
    "video_data[0]"
   ]
  },
  {
   "cell_type": "markdown",
   "metadata": {},
   "source": [
    "## Data Processing"
   ]
  },
  {
   "cell_type": "code",
   "execution_count": 7,
   "metadata": {
    "tags": [
     "data-preprocess-dataframe"
    ]
   },
   "outputs": [
    {
     "data": {
      "text/html": [
       "<div>\n",
       "<style scoped>\n",
       "    .dataframe tbody tr th:only-of-type {\n",
       "        vertical-align: middle;\n",
       "    }\n",
       "\n",
       "    .dataframe tbody tr th {\n",
       "        vertical-align: top;\n",
       "    }\n",
       "\n",
       "    .dataframe thead th {\n",
       "        text-align: right;\n",
       "    }\n",
       "</style>\n",
       "<table border=\"1\" class=\"dataframe\">\n",
       "  <thead>\n",
       "    <tr style=\"text-align: right;\">\n",
       "      <th></th>\n",
       "      <th>channel_id</th>\n",
       "      <th>video_id</th>\n",
       "      <th>datetime</th>\n",
       "      <th>title</th>\n",
       "      <th>views</th>\n",
       "      <th>likes</th>\n",
       "      <th>comments</th>\n",
       "      <th>transcript</th>\n",
       "    </tr>\n",
       "  </thead>\n",
       "  <tbody>\n",
       "    <tr>\n",
       "      <th>0</th>\n",
       "      <td>UCgUueMmSpcl-aCTt5CuCKQw</td>\n",
       "      <td>wzrIKGcOlsU</td>\n",
       "      <td>2025-01-13T17:00:24Z</td>\n",
       "      <td>Rory McIlroy has another gear.</td>\n",
       "      <td>3142</td>\n",
       "      <td>304</td>\n",
       "      <td>16</td>\n",
       "      <td>I've never seen you go after the ball like thi...</td>\n",
       "    </tr>\n",
       "    <tr>\n",
       "      <th>1</th>\n",
       "      <td>UCgUueMmSpcl-aCTt5CuCKQw</td>\n",
       "      <td>Pz42jFngEzM</td>\n",
       "      <td>2025-01-13T03:25:25Z</td>\n",
       "      <td>Thank you. 1 Million ❤️</td>\n",
       "      <td>59474</td>\n",
       "      <td>6757</td>\n",
       "      <td>428</td>\n",
       "      <td>[Music] so sick let's go [Music]</td>\n",
       "    </tr>\n",
       "    <tr>\n",
       "      <th>2</th>\n",
       "      <td>UCgUueMmSpcl-aCTt5CuCKQw</td>\n",
       "      <td>fSHh01YT0-Q</td>\n",
       "      <td>2025-01-07T18:50:32Z</td>\n",
       "      <td>Tiger Woods hits the ball off the heel.</td>\n",
       "      <td>64116</td>\n",
       "      <td>2055</td>\n",
       "      <td>30</td>\n",
       "      <td>over the course of my career I've always hit t...</td>\n",
       "    </tr>\n",
       "    <tr>\n",
       "      <th>3</th>\n",
       "      <td>UCgUueMmSpcl-aCTt5CuCKQw</td>\n",
       "      <td>erzLT7fy2r0</td>\n",
       "      <td>2025-01-07T17:56:07Z</td>\n",
       "      <td>Tiger Woods liked my golf swing!</td>\n",
       "      <td>122584</td>\n",
       "      <td>4486</td>\n",
       "      <td>76</td>\n",
       "      <td>what's wrong with that yeah that came off you ...</td>\n",
       "    </tr>\n",
       "    <tr>\n",
       "      <th>4</th>\n",
       "      <td>UCgUueMmSpcl-aCTt5CuCKQw</td>\n",
       "      <td>3O08SnyZ88U</td>\n",
       "      <td>2025-01-07T17:07:04Z</td>\n",
       "      <td>Tiger Woods teaches me how to hit it straight!</td>\n",
       "      <td>555884</td>\n",
       "      <td>18286</td>\n",
       "      <td>142</td>\n",
       "      <td>what did you do in your career when you had a ...</td>\n",
       "    </tr>\n",
       "  </tbody>\n",
       "</table>\n",
       "</div>"
      ],
      "text/plain": [
       "                 channel_id     video_id              datetime  \\\n",
       "0  UCgUueMmSpcl-aCTt5CuCKQw  wzrIKGcOlsU  2025-01-13T17:00:24Z   \n",
       "1  UCgUueMmSpcl-aCTt5CuCKQw  Pz42jFngEzM  2025-01-13T03:25:25Z   \n",
       "2  UCgUueMmSpcl-aCTt5CuCKQw  fSHh01YT0-Q  2025-01-07T18:50:32Z   \n",
       "3  UCgUueMmSpcl-aCTt5CuCKQw  erzLT7fy2r0  2025-01-07T17:56:07Z   \n",
       "4  UCgUueMmSpcl-aCTt5CuCKQw  3O08SnyZ88U  2025-01-07T17:07:04Z   \n",
       "\n",
       "                                            title   views  likes comments  \\\n",
       "0                  Rory McIlroy has another gear.    3142    304       16   \n",
       "1                         Thank you. 1 Million ❤️   59474   6757      428   \n",
       "2         Tiger Woods hits the ball off the heel.   64116   2055       30   \n",
       "3                Tiger Woods liked my golf swing!  122584   4486       76   \n",
       "4  Tiger Woods teaches me how to hit it straight!  555884  18286      142   \n",
       "\n",
       "                                          transcript  \n",
       "0  I've never seen you go after the ball like thi...  \n",
       "1                   [Music] so sick let's go [Music]  \n",
       "2  over the course of my career I've always hit t...  \n",
       "3  what's wrong with that yeah that came off you ...  \n",
       "4  what did you do in your career when you had a ...  "
      ]
     },
     "execution_count": 7,
     "metadata": {},
     "output_type": "execute_result"
    }
   ],
   "source": [
    "raw_data = pd.DataFrame(video_data)\n",
    "raw_data.head()"
   ]
  },
  {
   "cell_type": "code",
   "execution_count": 8,
   "metadata": {
    "tags": [
     "data-preprocess-clean"
    ]
   },
   "outputs": [
    {
     "data": {
      "text/html": [
       "<div>\n",
       "<style scoped>\n",
       "    .dataframe tbody tr th:only-of-type {\n",
       "        vertical-align: middle;\n",
       "    }\n",
       "\n",
       "    .dataframe tbody tr th {\n",
       "        vertical-align: top;\n",
       "    }\n",
       "\n",
       "    .dataframe thead th {\n",
       "        text-align: right;\n",
       "    }\n",
       "</style>\n",
       "<table border=\"1\" class=\"dataframe\">\n",
       "  <thead>\n",
       "    <tr style=\"text-align: right;\">\n",
       "      <th></th>\n",
       "      <th>channel_id</th>\n",
       "      <th>video_id</th>\n",
       "      <th>datetime</th>\n",
       "      <th>title</th>\n",
       "      <th>views</th>\n",
       "      <th>likes</th>\n",
       "      <th>comments</th>\n",
       "      <th>transcript</th>\n",
       "      <th>transcript_length</th>\n",
       "    </tr>\n",
       "  </thead>\n",
       "  <tbody>\n",
       "    <tr>\n",
       "      <th>0</th>\n",
       "      <td>UCgUueMmSpcl-aCTt5CuCKQw</td>\n",
       "      <td>wzrIKGcOlsU</td>\n",
       "      <td>2025-01-13 17:00:24+00:00</td>\n",
       "      <td>Rory McIlroy has another gear.</td>\n",
       "      <td>3142</td>\n",
       "      <td>304</td>\n",
       "      <td>16</td>\n",
       "      <td>I've never seen you go after the ball like thi...</td>\n",
       "      <td>246</td>\n",
       "    </tr>\n",
       "    <tr>\n",
       "      <th>1</th>\n",
       "      <td>UCgUueMmSpcl-aCTt5CuCKQw</td>\n",
       "      <td>Pz42jFngEzM</td>\n",
       "      <td>2025-01-13 03:25:25+00:00</td>\n",
       "      <td>Thank you. 1 Million</td>\n",
       "      <td>59474</td>\n",
       "      <td>6757</td>\n",
       "      <td>428</td>\n",
       "      <td>[Music] so sick let's go [Music]</td>\n",
       "      <td>32</td>\n",
       "    </tr>\n",
       "    <tr>\n",
       "      <th>2</th>\n",
       "      <td>UCgUueMmSpcl-aCTt5CuCKQw</td>\n",
       "      <td>fSHh01YT0-Q</td>\n",
       "      <td>2025-01-07 18:50:32+00:00</td>\n",
       "      <td>Tiger Woods hits the ball off the heel.</td>\n",
       "      <td>64116</td>\n",
       "      <td>2055</td>\n",
       "      <td>30</td>\n",
       "      <td>over the course of my career I've always hit t...</td>\n",
       "      <td>483</td>\n",
       "    </tr>\n",
       "    <tr>\n",
       "      <th>3</th>\n",
       "      <td>UCgUueMmSpcl-aCTt5CuCKQw</td>\n",
       "      <td>erzLT7fy2r0</td>\n",
       "      <td>2025-01-07 17:56:07+00:00</td>\n",
       "      <td>Tiger Woods liked my golf swing!</td>\n",
       "      <td>122584</td>\n",
       "      <td>4486</td>\n",
       "      <td>76</td>\n",
       "      <td>what's wrong with that yeah that came off you ...</td>\n",
       "      <td>208</td>\n",
       "    </tr>\n",
       "    <tr>\n",
       "      <th>4</th>\n",
       "      <td>UCgUueMmSpcl-aCTt5CuCKQw</td>\n",
       "      <td>3O08SnyZ88U</td>\n",
       "      <td>2025-01-07 17:07:04+00:00</td>\n",
       "      <td>Tiger Woods teaches me how to hit it straight!</td>\n",
       "      <td>555884</td>\n",
       "      <td>18286</td>\n",
       "      <td>142</td>\n",
       "      <td>what did you do in your career when you had a ...</td>\n",
       "      <td>646</td>\n",
       "    </tr>\n",
       "  </tbody>\n",
       "</table>\n",
       "</div>"
      ],
      "text/plain": [
       "                 channel_id     video_id                  datetime  \\\n",
       "0  UCgUueMmSpcl-aCTt5CuCKQw  wzrIKGcOlsU 2025-01-13 17:00:24+00:00   \n",
       "1  UCgUueMmSpcl-aCTt5CuCKQw  Pz42jFngEzM 2025-01-13 03:25:25+00:00   \n",
       "2  UCgUueMmSpcl-aCTt5CuCKQw  fSHh01YT0-Q 2025-01-07 18:50:32+00:00   \n",
       "3  UCgUueMmSpcl-aCTt5CuCKQw  erzLT7fy2r0 2025-01-07 17:56:07+00:00   \n",
       "4  UCgUueMmSpcl-aCTt5CuCKQw  3O08SnyZ88U 2025-01-07 17:07:04+00:00   \n",
       "\n",
       "                                            title   views  likes  comments  \\\n",
       "0                  Rory McIlroy has another gear.    3142    304        16   \n",
       "1                           Thank you. 1 Million    59474   6757       428   \n",
       "2         Tiger Woods hits the ball off the heel.   64116   2055        30   \n",
       "3                Tiger Woods liked my golf swing!  122584   4486        76   \n",
       "4  Tiger Woods teaches me how to hit it straight!  555884  18286       142   \n",
       "\n",
       "                                          transcript  transcript_length  \n",
       "0  I've never seen you go after the ball like thi...                246  \n",
       "1                   [Music] so sick let's go [Music]                 32  \n",
       "2  over the course of my career I've always hit t...                483  \n",
       "3  what's wrong with that yeah that came off you ...                208  \n",
       "4  what did you do in your career when you had a ...                646  "
      ]
     },
     "execution_count": 8,
     "metadata": {},
     "output_type": "execute_result"
    }
   ],
   "source": [
    "# Remove rows with missing data\n",
    "cleaned_data = raw_data.dropna()\n",
    "\n",
    "# Remove duplicate rows\n",
    "cleaned_data = cleaned_data.drop_duplicates()\n",
    "\n",
    "# Remove any inconsistent data types\n",
    "for col in ['views', 'likes', 'comments']:\n",
    "    cleaned_data[col] = pd.to_numeric(cleaned_data[col], errors='coerce')\n",
    "\n",
    "# Remove any observations that have invalid datetime values\n",
    "cleaned_data['datetime'] = pd.to_datetime(cleaned_data['datetime'], errors='coerce')\n",
    "cleaned_data = cleaned_data.dropna(subset=['datetime'])\n",
    "\n",
    "# Remove any observations where the views value is less than 3 standard deviations\n",
    "# from the mean\n",
    "mean_views = cleaned_data['views'].mean()\n",
    "std_views = cleaned_data['views'].std()\n",
    "cleaned_data = cleaned_data[cleaned_data['views'] >= (mean_views - 3 * std_views)]\n",
    "\n",
    "# Remove any observations where the transcript length is less than 3 standard deviations\n",
    "# from the mean transcript length\n",
    "cleaned_data['transcript_length'] = cleaned_data['transcript'].apply(lambda x: len(x) if pd.notnull(x) else 0)\n",
    "mean_transcript_length = cleaned_data['transcript_length'].mean()\n",
    "std_transcript_length = cleaned_data['transcript_length'].std()\n",
    "cleaned_data = cleaned_data[cleaned_data['transcript_length'] >= (mean_transcript_length - 3 * std_transcript_length)]\n",
    "\n",
    "# Remove/clean the title and transcript columns for non-character string values\n",
    "# (i.e. unicode characters)\n",
    "def clean_text(text):\n",
    "    if isinstance(text, str):\n",
    "        return unicodedata.normalize('NFKD', text).encode('ascii', 'ignore').decode('ascii')\n",
    "    return text\n",
    "\n",
    "cleaned_data['title'] = cleaned_data['title'].apply(clean_text)\n",
    "cleaned_data['transcript'] = cleaned_data['transcript'].apply(clean_text)\n",
    "\n",
    "cleaned_data.head()"
   ]
  },
  {
   "cell_type": "markdown",
   "metadata": {},
   "source": [
    "## Final Data Validation"
   ]
  },
  {
   "cell_type": "code",
   "execution_count": 9,
   "metadata": {
    "tags": [
     "validate-setup"
    ]
   },
   "outputs": [],
   "source": [
    "# Create Data Context.\n",
    "context = gx.get_context()\n",
    "\n",
    "# Create Data Source, Data Asset, Batch Definition, and Batch.\n",
    "data_source = context.data_sources.add_pandas(\"pandas\")\n",
    "data_asset = data_source.add_dataframe_asset(name=\"Youtube video data\")\n",
    "batch_definition = data_asset.add_batch_definition_whole_dataframe(\"batch definition\")\n",
    "batch = batch_definition.get_batch(batch_parameters={\"dataframe\": cleaned_data})"
   ]
  },
  {
   "cell_type": "code",
   "execution_count": 10,
   "metadata": {
    "tags": [
     "validate-data"
    ]
   },
   "outputs": [
    {
     "data": {
      "application/vnd.jupyter.widget-view+json": {
       "model_id": "8bdda22c8821490f90255ceae3cb659a",
       "version_major": 2,
       "version_minor": 0
      },
      "text/plain": [
       "Calculating Metrics:   0%|          | 0/49 [00:00<?, ?it/s]"
      ]
     },
     "metadata": {},
     "output_type": "display_data"
    },
    {
     "name": "stdout",
     "output_type": "stream",
     "text": [
      "True\n"
     ]
    }
   ],
   "source": [
    "# Create an Expectation Suite\n",
    "suite = gx.ExpectationSuite(name=\"Youtube video data expectations\")\n",
    "\n",
    "# Add the Expectation Suite to the Data Context\n",
    "suite = context.suites.add(suite)\n",
    "\n",
    "# Validate columns exist\n",
    "suite.add_expectation(gx.expectations.ExpectColumnToExist(column='channel_id'))\n",
    "suite.add_expectation(gx.expectations.ExpectColumnToExist(column='video_id'))\n",
    "suite.add_expectation(gx.expectations.ExpectColumnToExist(column='datetime'))\n",
    "suite.add_expectation(gx.expectations.ExpectColumnToExist(column='title'))\n",
    "suite.add_expectation(gx.expectations.ExpectColumnToExist(column='views'))\n",
    "suite.add_expectation(gx.expectations.ExpectColumnToExist(column='likes'))\n",
    "suite.add_expectation(gx.expectations.ExpectColumnToExist(column='comments'))\n",
    "suite.add_expectation(gx.expectations.ExpectColumnToExist(column='transcript'))\n",
    "suite.add_expectation(gx.expectations.ExpectColumnToExist(column='transcript_length'))\n",
    "\n",
    "# Validate data types\n",
    "suite.add_expectation(gx.expectations.ExpectColumnValuesToBeOfType(\n",
    "    column='channel_id', type_=\"object\"\n",
    "    ))\n",
    "suite.add_expectation(gx.expectations.ExpectColumnValuesToBeOfType(\n",
    "    column='video_id', type_=\"object\"\n",
    "    ))\n",
    "suite.add_expectation(gx.expectations.ExpectColumnValuesToBeOfType(\n",
    "    column='datetime', type_=\"Timestamp\"\n",
    "    ))\n",
    "suite.add_expectation(gx.expectations.ExpectColumnValuesToBeOfType(\n",
    "    column='title', type_=\"object\"\n",
    "    ))\n",
    "suite.add_expectation(gx.expectations.ExpectColumnValuesToBeOfType(\n",
    "    column='views', type_=\"int64\"\n",
    "    ))\n",
    "suite.add_expectation(gx.expectations.ExpectColumnValuesToBeOfType(\n",
    "    column='likes', type_=\"int64\"\n",
    "    ))\n",
    "suite.add_expectation(gx.expectations.ExpectColumnValuesToBeOfType(\n",
    "    column='comments', type_=\"int64\"\n",
    "    ))\n",
    "suite.add_expectation(gx.expectations.ExpectColumnValuesToBeOfType(\n",
    "    column='transcript', type_=\"object\"\n",
    "    ))\n",
    "suite.add_expectation(gx.expectations.ExpectColumnValuesToBeOfType(\n",
    "    column='transcript_length', type_=\"int64\"\n",
    "    ))\n",
    "\n",
    "# Validate no empty values exist\n",
    "suite.add_expectation(gx.expectations.ExpectColumnValuesToNotBeNull(column='channel_id'))\n",
    "suite.add_expectation(gx.expectations.ExpectColumnValuesToNotBeNull(column='video_id'))\n",
    "suite.add_expectation(gx.expectations.ExpectColumnValuesToNotBeNull(column='datetime'))\n",
    "suite.add_expectation(gx.expectations.ExpectColumnValuesToNotBeNull(column='title'))\n",
    "suite.add_expectation(gx.expectations.ExpectColumnValuesToNotBeNull(column='views'))\n",
    "suite.add_expectation(gx.expectations.ExpectColumnValuesToNotBeNull(column='likes'))\n",
    "suite.add_expectation(gx.expectations.ExpectColumnValuesToNotBeNull(column='comments'))\n",
    "suite.add_expectation(gx.expectations.ExpectColumnValuesToNotBeNull(column='transcript'))\n",
    "suite.add_expectation(gx.expectations.ExpectColumnValuesToNotBeNull(column='transcript_length'))\n",
    "\n",
    "# Validate results\n",
    "validation_results = batch.validate(suite)\n",
    "print(validation_results.success)"
   ]
  },
  {
   "cell_type": "markdown",
   "metadata": {},
   "source": [
    "## Data Versioning & Storage"
   ]
  },
  {
   "cell_type": "code",
   "execution_count": 11,
   "metadata": {
    "tags": [
     "store-clean-data"
    ]
   },
   "outputs": [],
   "source": [
    "# Ensure the directory exists\n",
    "os.makedirs('data', exist_ok=True)\n",
    "\n",
    "# Write the cleaned data to a parquet file\n",
    "cleaned_data.to_parquet('data/youtube_video_data.parquet', index=False)"
   ]
  },
  {
   "cell_type": "markdown",
   "metadata": {},
   "source": [
    "Initialize dvc\n",
    "\n",
    "```zsh\n",
    "$ dvc init\n",
    "```\n",
    "\n",
    "A few internal files are created that should be added to Git. So, as long as you are using Git for this project you can:\n",
    "\n",
    "```zsh\n",
    "git status\n",
    "Changes to be committed:\n",
    "        new file:   .dvc/.gitignore\n",
    "        new file:   .dvc/config\n",
    "        ...\n",
    "git commit -m \"Initialize DVC\"\n",
    "```\n",
    "\n",
    "Next, you need to use `dvc add` to start tracking the dataset file. \n",
    "\n",
    "```zsh\n",
    "git add DataOps/data/youtube_video_data.parquet.dvc DataOps/data/.gitignore\n",
    "```\n",
    "\n",
    "Next, run the following commands to track and tag the dataset changes in Git.\n",
    "\n",
    "```zsh\n",
    "git commit -m 'Initial processed Youtube data'\n",
    "git tag -a \"v1.0\" -m \"Youtube data v1.0\" \n",
    "```\n",
    "\n"
   ]
  },
  {
   "cell_type": "markdown",
   "metadata": {},
   "source": [
    "## Computing Environment"
   ]
  },
  {
   "cell_type": "code",
   "execution_count": 12,
   "metadata": {
    "tags": [
     "dataops-rqmts"
    ]
   },
   "outputs": [
    {
     "name": "stdout",
     "output_type": "stream",
     "text": [
      "Python version: 3.12.7 | packaged by Anaconda, Inc. | (main, Oct  4 2024, 08:28:27) [Clang 14.0.6 ]\n",
      "\n",
      "dvc==3.59.0\n",
      "great_expectations==1.3.1\n",
      "jupyterlab==4.1.6\n",
      "matplotlib==3.8.0\n",
      "numpy==1.26.4\n",
      "pandas<=2.2\n",
      "python-dotenv==0.21.0\n",
      "tqdm==4.63.0\n",
      "youtube_transcript_api==0.6.2\n"
     ]
    },
    {
     "name": "stderr",
     "output_type": "stream",
     "text": [
      "error uploading: HTTPSConnectionPool(host='posthog.greatexpectations.io', port=443): Max retries exceeded with url: /batch/ (Caused by SSLError(SSLCertVerificationError(1, '[SSL: CERTIFICATE_VERIFY_FAILED] certificate verify failed: self-signed certificate in certificate chain (_ssl.c:1000)')))\n"
     ]
    }
   ],
   "source": [
    "import sys\n",
    "\n",
    "print(f'Python version: {sys.version}', end='\\n\\n')\n",
    "\n",
    "with open('dataops-requirements.txt', 'r') as file:\n",
    "    for line in file:\n",
    "        print(line.strip())\n"
   ]
  }
 ],
 "metadata": {
  "kernelspec": {
   "display_name": "base",
   "language": "python",
   "name": "python3"
  },
  "language_info": {
   "codemirror_mode": {
    "name": "ipython",
    "version": 3
   },
   "file_extension": ".py",
   "mimetype": "text/x-python",
   "name": "python",
   "nbconvert_exporter": "python",
   "pygments_lexer": "ipython3",
   "version": "3.12.7"
  }
 },
 "nbformat": 4,
 "nbformat_minor": 2
}
